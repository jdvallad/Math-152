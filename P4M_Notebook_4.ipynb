{
  "nbformat": 4,
  "nbformat_minor": 0,
  "metadata": {
    "kernelspec": {
      "display_name": "Python 3",
      "language": "python",
      "name": "python3"
    },
    "language_info": {
      "codemirror_mode": {
        "name": "ipython",
        "version": 3
      },
      "file_extension": ".py",
      "mimetype": "text/x-python",
      "name": "python",
      "nbconvert_exporter": "python",
      "pygments_lexer": "ipython3",
      "version": "3.6.7"
    },
    "colab": {
      "name": "P4M Notebook 4.ipynb",
      "provenance": [],
      "include_colab_link": true
    }
  },
  "cells": [
    {
      "cell_type": "markdown",
      "metadata": {
        "id": "view-in-github",
        "colab_type": "text"
      },
      "source": [
        "<a href=\"https://colab.research.google.com/github/jdvallad/Math-152/blob/main/P4M_Notebook_4.ipynb\" target=\"_parent\"><img src=\"https://colab.research.google.com/assets/colab-badge.svg\" alt=\"Open In Colab\"/></a>"
      ]
    },
    {
      "cell_type": "markdown",
      "metadata": {
        "id": "DxdHENj6G5z_"
      },
      "source": [
        "# Part 4:  Introduction to NumPy and Visualization\n",
        "\n",
        "Python lists -- objects of type `list` -- are flexible containers for all sorts of data.  They can hold numbers, strings, even other lists.  Python excels at list slicing, whereby one can examine and move and write entire \"slices\" of a list at once.  Lists are emblematic of Pythonic elegance.\n",
        "\n",
        "[NumPy](http://www.numpy.org/) (and it's relative SciPy) are packages for numerical and scientific computation in Python.  These packages extend the capability of Python by defining new types which are highly optimized for floating-point and fixed-size integer computation.  They also extend the capability of Python by introducing new list-like types that allow multi-dimensional arrays (like matrices) and allow \"broadcasting\" -- the seemingly-simultaneous application of functions to all terms of such an array.\n",
        "\n",
        "Here we will introduce computation with NumPy.  Since we will be working with large arrays of data, we will also introduce a few techniques for data visualization, using [MatPlotLib](https://matplotlib.org/) (for standard types of graphs) and [Pillow](https://python-pillow.org/) (for low-level graphics manipulation)."
      ]
    },
    {
      "cell_type": "markdown",
      "metadata": {
        "id": "Xs-ILBNLG50C"
      },
      "source": [
        "## Introduction to NumPy\n",
        "\n",
        "To get started, we load the numpy package with the `import numpy as np` command.  This means that all numpy functions will be accessible in the form `np.<function>`.  For example, if we want to compute the square root of a number, using the numpy function, we would call it with `np.sqrt`.\n",
        "\n",
        "To learn more about NumPy, get started with the [NumPy basics documentation](https://docs.scipy.org/doc/numpy/user/basics.html)."
      ]
    },
    {
      "cell_type": "code",
      "metadata": {
        "id": "FlPExeaJG50D"
      },
      "source": [
        "import numpy as np "
      ],
      "execution_count": 1,
      "outputs": []
    },
    {
      "cell_type": "code",
      "metadata": {
        "id": "PfPgOZNXG50D",
        "colab": {
          "base_uri": "https://localhost:8080/"
        },
        "outputId": "5375b9fb-af5e-427f-951c-7d60d24efa9e"
      },
      "source": [
        "np.sqrt(10)"
      ],
      "execution_count": 2,
      "outputs": [
        {
          "output_type": "execute_result",
          "data": {
            "text/plain": [
              "3.1622776601683795"
            ]
          },
          "metadata": {},
          "execution_count": 2
        }
      ]
    },
    {
      "cell_type": "markdown",
      "metadata": {
        "id": "XkIhqenVG50E"
      },
      "source": [
        "[link text](https://)### NumPy numerical types and \"universal\" functions (ufuncs)"
      ]
    },
    {
      "cell_type": "code",
      "metadata": {
        "id": "q2hpV5uhG50E",
        "colab": {
          "base_uri": "https://localhost:8080/"
        },
        "outputId": "b63380a7-13e5-49e6-89b6-0d06725acdfe"
      },
      "source": [
        "type(np.sqrt(10))"
      ],
      "execution_count": 3,
      "outputs": [
        {
          "output_type": "execute_result",
          "data": {
            "text/plain": [
              "numpy.float64"
            ]
          },
          "metadata": {},
          "execution_count": 3
        }
      ]
    },
    {
      "cell_type": "markdown",
      "metadata": {
        "id": "AQL642wUG50E"
      },
      "source": [
        "You'll notice right away that numpy has its own types.  The above command should output something like `numpy.float64` or `numpy.float32` (probably the first).  These are floating-point numbers (i.e., approximations of real numbers) which occupy 64 or 32 bits, depending on your computer (or Google's computers, if running on Colab).  The standard numerical types in NumPy are described [in the documentation](https://docs.scipy.org/doc/numpy/user/basics.types.html).  \n",
        "\n",
        "By using specialized numerical types, NumPy is able to take advantage of your computer hardware, which is optimized for arithmetic on certain kinds of numbers.  NumPy types are typically a bit less flexible than pure Python types, e.g., you won't find an \"adjustable\" `int` type.  But for intensive computations, the reduction of flexibility is outweighed by the speed and memory improvements.\n",
        "\n",
        "You can create a variable of a certain numpy type with a command of the form `x = np.<type>(something)`.  For example, let's create a numpy float from scratch."
      ]
    },
    {
      "cell_type": "code",
      "metadata": {
        "id": "haiGvuiSG50E"
      },
      "source": [
        "x = np.float64(3.14) # Not just a float... a numpy-float."
      ],
      "execution_count": 4,
      "outputs": []
    },
    {
      "cell_type": "code",
      "metadata": {
        "id": "WrlJojzPG50F",
        "colab": {
          "base_uri": "https://localhost:8080/"
        },
        "outputId": "d4a92af0-9fca-4844-e3d0-bdd52953a8c5"
      },
      "source": [
        "print(x**10)"
      ],
      "execution_count": 5,
      "outputs": [
        {
          "output_type": "stream",
          "name": "stdout",
          "text": [
            "93174.3733866435\n"
          ]
        }
      ]
    },
    {
      "cell_type": "code",
      "metadata": {
        "id": "sMoTyrkjG50F",
        "colab": {
          "base_uri": "https://localhost:8080/"
        },
        "outputId": "207c9c1b-35a9-4a0e-c89d-1ee704d5919c"
      },
      "source": [
        "type(x**10)"
      ],
      "execution_count": 6,
      "outputs": [
        {
          "output_type": "execute_result",
          "data": {
            "text/plain": [
              "numpy.float64"
            ]
          },
          "metadata": {},
          "execution_count": 6
        }
      ]
    },
    {
      "cell_type": "markdown",
      "metadata": {
        "id": "S5Fmdh-bG50F"
      },
      "source": [
        "This is useful, if we want to tell our computer explicitly to use numpy for some computations instead of using the Python defaults.  But beware that types can be restrictive -- this is a good thing, in practice, but takes some getting used to.\n",
        "\n",
        "We will be using the type `uint8` type a bit later.  This stands for 8-bit *unsigned* integers.  These are non-negative integers that can be encoded with 8 bits of information, i.e., whose binary expansion has eight ones and zeros.  For example, the 8-bit binary expression 10101010 stands for the integer 128+32+8+2 = 170.  Note that 8 bits = 1 byte... so each uint8 occupies one byte of memory.  \n",
        "\n",
        "An 8-bit unsigned integer can represent integers between 0 and 255 (inclusive).  If your computations exceed this range, then a warning/error will result!"
      ]
    },
    {
      "cell_type": "code",
      "metadata": {
        "id": "KYbH9d-9G50F"
      },
      "source": [
        "n = np.uint8(137) # n is an 8-bit unsigned integer."
      ],
      "execution_count": 7,
      "outputs": []
    },
    {
      "cell_type": "code",
      "metadata": {
        "id": "P1iN1H9AG50F",
        "colab": {
          "base_uri": "https://localhost:8080/",
          "height": 35
        },
        "outputId": "c0bfccc4-4d1a-4cdd-c164-1d5c20e20cb3"
      },
      "source": [
        "bin(n) # The bits of n are in the string below, after the '0b'.  "
      ],
      "execution_count": 8,
      "outputs": [
        {
          "output_type": "execute_result",
          "data": {
            "text/plain": [
              "'0b10001001'"
            ],
            "application/vnd.google.colaboratory.intrinsic+json": {
              "type": "string"
            }
          },
          "metadata": {},
          "execution_count": 8
        }
      ]
    },
    {
      "cell_type": "code",
      "metadata": {
        "id": "6VxxehF2G50G",
        "colab": {
          "base_uri": "https://localhost:8080/"
        },
        "outputId": "dd52f841-9aeb-451b-c136-922d467577ac"
      },
      "source": [
        "print(n)"
      ],
      "execution_count": 9,
      "outputs": [
        {
          "output_type": "stream",
          "name": "stdout",
          "text": [
            "137\n"
          ]
        }
      ]
    },
    {
      "cell_type": "code",
      "metadata": {
        "id": "xwiiYIZHG50G",
        "colab": {
          "base_uri": "https://localhost:8080/"
        },
        "outputId": "3683e4f3-93cf-46da-b443-30e5d5c41147"
      },
      "source": [
        "print(n*n) # Uh oh overflow."
      ],
      "execution_count": 10,
      "outputs": [
        {
          "output_type": "stream",
          "name": "stdout",
          "text": [
            "81\n"
          ]
        },
        {
          "output_type": "stream",
          "name": "stderr",
          "text": [
            "<ipython-input-10-f4fababb22e9>:1: RuntimeWarning: overflow encountered in ubyte_scalars\n",
            "  print(n*n) # Uh oh overflow.\n"
          ]
        }
      ]
    },
    {
      "cell_type": "markdown",
      "metadata": {
        "id": "YhWxBx6GG50G"
      },
      "source": [
        "These kind of restrictions are good and bad.  The bad is that more error messages will pop out and sometimes crash your functions.  Overflows can lead to *wrong* outputs.  The good is that you will be able to harness your computer's processor more effectively, and you will be forced to program more carefully.\n",
        "\n",
        "NumPy also comes with some familiar constants:  $e$, $\\pi$, and Euler's $\\gamma$ (which you approximated before)."
      ]
    },
    {
      "cell_type": "code",
      "metadata": {
        "id": "CGNI-a7DG50G",
        "colab": {
          "base_uri": "https://localhost:8080/"
        },
        "outputId": "fe8b5b72-556d-43a6-9ea0-122311afd1be"
      },
      "source": [
        "print(np.e)"
      ],
      "execution_count": 11,
      "outputs": [
        {
          "output_type": "stream",
          "name": "stdout",
          "text": [
            "2.718281828459045\n"
          ]
        }
      ]
    },
    {
      "cell_type": "code",
      "metadata": {
        "id": "QMvHz4nVG50G",
        "colab": {
          "base_uri": "https://localhost:8080/"
        },
        "outputId": "98f241c9-8aa2-4e10-b0e5-6971ba9dabcb"
      },
      "source": [
        "print(np.pi)"
      ],
      "execution_count": 12,
      "outputs": [
        {
          "output_type": "stream",
          "name": "stdout",
          "text": [
            "3.141592653589793\n"
          ]
        }
      ]
    },
    {
      "cell_type": "code",
      "metadata": {
        "id": "Yx2vgQLSG50G",
        "colab": {
          "base_uri": "https://localhost:8080/"
        },
        "outputId": "17292558-1d84-467a-b92f-197bb8fe5694"
      },
      "source": [
        "print(np.euler_gamma) # The harmonic sum minus the logarithm, remember?"
      ],
      "execution_count": 13,
      "outputs": [
        {
          "output_type": "stream",
          "name": "stdout",
          "text": [
            "0.5772156649015329\n"
          ]
        }
      ]
    },
    {
      "cell_type": "markdown",
      "metadata": {
        "id": "zSWZRHP3G50H"
      },
      "source": [
        "NumPy also comes with a zoo of highly optimized, \"broadcastable\" (we'll see what this means soon) functions.  Examples include square roots, trig functions, exponentials and logarithms, GCD, and more.  A nice list of these \"universal functions\" is [in the documentation](https://docs.scipy.org/doc/numpy/reference/ufuncs.html#math-operations)."
      ]
    },
    {
      "cell_type": "code",
      "metadata": {
        "id": "oFz-Pg4aG50H",
        "colab": {
          "base_uri": "https://localhost:8080/"
        },
        "outputId": "b5da8a54-2db0-491c-a1dd-d3910b6fe727"
      },
      "source": [
        "np.sin(np.pi / 4) # What will this be?  Remember precalculus?"
      ],
      "execution_count": 14,
      "outputs": [
        {
          "output_type": "execute_result",
          "data": {
            "text/plain": [
              "0.7071067811865475"
            ]
          },
          "metadata": {},
          "execution_count": 14
        }
      ]
    },
    {
      "cell_type": "code",
      "metadata": {
        "id": "U9wfP0R-G50H",
        "colab": {
          "base_uri": "https://localhost:8080/"
        },
        "outputId": "df4a332f-0dc6-48d6-9135-5d0cf475d298"
      },
      "source": [
        "np.sqrt(2) / 2 # For comparison.  Note the little deviation from above... these can add up!!"
      ],
      "execution_count": 15,
      "outputs": [
        {
          "output_type": "execute_result",
          "data": {
            "text/plain": [
              "0.7071067811865476"
            ]
          },
          "metadata": {},
          "execution_count": 15
        }
      ]
    },
    {
      "cell_type": "code",
      "metadata": {
        "id": "SAM1qy_iG50H",
        "colab": {
          "base_uri": "https://localhost:8080/"
        },
        "outputId": "5770b00a-e1bf-4a12-f58c-acea1a58add5"
      },
      "source": [
        "np.arctan(1) # The arctangent, or inverse tangent function"
      ],
      "execution_count": 16,
      "outputs": [
        {
          "output_type": "execute_result",
          "data": {
            "text/plain": [
              "0.7853981633974483"
            ]
          },
          "metadata": {},
          "execution_count": 16
        }
      ]
    },
    {
      "cell_type": "code",
      "metadata": {
        "id": "Rzxk9OWlG50H",
        "colab": {
          "base_uri": "https://localhost:8080/"
        },
        "outputId": "77736997-f1fe-43da-ec9c-b3b123ed8d77"
      },
      "source": [
        "np.pi / 4"
      ],
      "execution_count": 17,
      "outputs": [
        {
          "output_type": "execute_result",
          "data": {
            "text/plain": [
              "0.7853981633974483"
            ]
          },
          "metadata": {},
          "execution_count": 17
        }
      ]
    },
    {
      "cell_type": "code",
      "metadata": {
        "id": "9vw840QfG50H",
        "colab": {
          "base_uri": "https://localhost:8080/"
        },
        "outputId": "5feb153a-c356-4cef-f50c-ef24d9cac625"
      },
      "source": [
        "np.hypot(3,4) # Guess what this does!"
      ],
      "execution_count": 18,
      "outputs": [
        {
          "output_type": "execute_result",
          "data": {
            "text/plain": [
              "5.0"
            ]
          },
          "metadata": {},
          "execution_count": 18
        }
      ]
    },
    {
      "cell_type": "markdown",
      "metadata": {
        "id": "zYtuGB3sG50I"
      },
      "source": [
        "### Python arrays\n",
        "\n",
        "So far, we have seen that NumPy extends Python with more types for numbers, more constants, and more functions.  This is all useful, especially for math and science applications.  But the place where NumPy really offers a big improvement is in its handling of arrays.\n",
        "\n",
        "A NumPy array is like a Python list... but less flexible in its contents, more flexible in its shape and size, and much more efficient for large-scale computations.  Let's begin by doing things that we know for lists, just within NumPy arrays instead."
      ]
    },
    {
      "cell_type": "code",
      "metadata": {
        "id": "braipmb9G50I",
        "colab": {
          "base_uri": "https://localhost:8080/"
        },
        "outputId": "c70371af-373a-4e4a-a87d-c6dc0c0466f9"
      },
      "source": [
        "L = np.array([1,2,3,4,5,6,7,8,9,10]) # Make a NumPy array from a list of numbers.\n",
        "print(L) # Looks like a list."
      ],
      "execution_count": 19,
      "outputs": [
        {
          "output_type": "stream",
          "name": "stdout",
          "text": [
            "[ 1  2  3  4  5  6  7  8  9 10]\n"
          ]
        }
      ]
    },
    {
      "cell_type": "code",
      "metadata": {
        "id": "bplXlKrSG50I",
        "colab": {
          "base_uri": "https://localhost:8080/"
        },
        "outputId": "8921f6b2-7767-4a82-cc06-7841ef14049a"
      },
      "source": [
        "print([1,2,3,4,5,6,7,8,9,10]) # But a Python list is printed with commas."
      ],
      "execution_count": 20,
      "outputs": [
        {
          "output_type": "stream",
          "name": "stdout",
          "text": [
            "[1, 2, 3, 4, 5, 6, 7, 8, 9, 10]\n"
          ]
        }
      ]
    },
    {
      "cell_type": "code",
      "metadata": {
        "id": "G8rpAI6VG50I",
        "colab": {
          "base_uri": "https://localhost:8080/"
        },
        "outputId": "3c439e19-b938-4894-954f-dcc9eca7b135"
      },
      "source": [
        "print(L[0])  # NumPy arrays are indexed like plain-Python arrays.  Start at zero."
      ],
      "execution_count": 21,
      "outputs": [
        {
          "output_type": "stream",
          "name": "stdout",
          "text": [
            "1\n"
          ]
        }
      ]
    },
    {
      "cell_type": "code",
      "metadata": {
        "id": "-c82_FLbG50I",
        "colab": {
          "base_uri": "https://localhost:8080/"
        },
        "outputId": "a1ab00ec-081c-4f05-81f4-8aa1fdc9dbea"
      },
      "source": [
        "print(L[-1]) # Familiar Python indexing tricks are supported."
      ],
      "execution_count": 22,
      "outputs": [
        {
          "output_type": "stream",
          "name": "stdout",
          "text": [
            "10\n"
          ]
        }
      ]
    },
    {
      "cell_type": "code",
      "metadata": {
        "id": "tynZI_jEG50I",
        "colab": {
          "base_uri": "https://localhost:8080/"
        },
        "outputId": "2c04d3e1-9edc-4730-db9d-1ea88e26a70c"
      },
      "source": [
        "type(L) # But really, L is not a list!  It's a numpy.ndarray"
      ],
      "execution_count": 23,
      "outputs": [
        {
          "output_type": "execute_result",
          "data": {
            "text/plain": [
              "numpy.ndarray"
            ]
          },
          "metadata": {},
          "execution_count": 23
        }
      ]
    },
    {
      "cell_type": "code",
      "metadata": {
        "id": "AFopmu7mG50J",
        "colab": {
          "base_uri": "https://localhost:8080/"
        },
        "outputId": "78a1b178-b2f3-4f2f-e568-28aae4f87961"
      },
      "source": [
        "type(L[0]) # NumPy is treating the terms with numpy types.  int64 is a 64-bit signed integer type."
      ],
      "execution_count": 25,
      "outputs": [
        {
          "output_type": "execute_result",
          "data": {
            "text/plain": [
              "numpy.int64"
            ]
          },
          "metadata": {},
          "execution_count": 25
        }
      ]
    },
    {
      "cell_type": "code",
      "metadata": {
        "id": "XJYk7ZdxG50J",
        "colab": {
          "base_uri": "https://localhost:8080/"
        },
        "outputId": "dacd2953-3152-4c2d-b850-52e9beca538f"
      },
      "source": [
        "print(L[1::3]) # Python list slices are supported in NumPy arrays."
      ],
      "execution_count": 26,
      "outputs": [
        {
          "output_type": "stream",
          "name": "stdout",
          "text": [
            "[2 5 8]\n"
          ]
        }
      ]
    },
    {
      "cell_type": "markdown",
      "metadata": {
        "id": "EJqPCwNKG50J"
      },
      "source": [
        "So far, so good.  The NumPy array looks just like a Python list.  We can slice and access terms in the same way.  The only visible difference so far is that the type is different, using type `numpy.ndarray` for the array and `numpy.int64` for each of the terms.  Here is the [official documentation](https://numpy.org/doc/stable/reference/generated/numpy.ndarray.html) on the `numpy.ndarray` type. \n",
        "\n",
        "Here is where NumPy arrays really start to differ from lists."
      ]
    },
    {
      "cell_type": "code",
      "metadata": {
        "id": "PHaATagdG50J",
        "colab": {
          "base_uri": "https://localhost:8080/"
        },
        "outputId": "940959f5-762c-4308-bc47-4af28400fc5f"
      },
      "source": [
        "L + L # What would this do for a list?"
      ],
      "execution_count": 27,
      "outputs": [
        {
          "output_type": "execute_result",
          "data": {
            "text/plain": [
              "array([ 2,  4,  6,  8, 10, 12, 14, 16, 18, 20])"
            ]
          },
          "metadata": {},
          "execution_count": 27
        }
      ]
    },
    {
      "cell_type": "code",
      "metadata": {
        "id": "km0mDD8qG50J",
        "colab": {
          "base_uri": "https://localhost:8080/"
        },
        "outputId": "46c0fc87-cb2d-42be-f857-92f98b824a33"
      },
      "source": [
        "7 * L # What would this do for a list?"
      ],
      "execution_count": 28,
      "outputs": [
        {
          "output_type": "execute_result",
          "data": {
            "text/plain": [
              "array([ 7, 14, 21, 28, 35, 42, 49, 56, 63, 70])"
            ]
          },
          "metadata": {},
          "execution_count": 28
        }
      ]
    },
    {
      "cell_type": "code",
      "metadata": {
        "id": "3mf5wWzCG50J",
        "colab": {
          "base_uri": "https://localhost:8080/"
        },
        "outputId": "6d2b8abd-247e-4513-c825-576cd43d904f"
      },
      "source": [
        "L * L # What would this do for a list?"
      ],
      "execution_count": 29,
      "outputs": [
        {
          "output_type": "execute_result",
          "data": {
            "text/plain": [
              "array([  1,   4,   9,  16,  25,  36,  49,  64,  81, 100])"
            ]
          },
          "metadata": {},
          "execution_count": 29
        }
      ]
    },
    {
      "cell_type": "code",
      "metadata": {
        "id": "vkRj5WjBG50K",
        "colab": {
          "base_uri": "https://localhost:8080/"
        },
        "outputId": "43042fba-6533-4e23-e298-fa0800a26a6f"
      },
      "source": [
        "np.sin(L) # What would this do for a list?"
      ],
      "execution_count": 30,
      "outputs": [
        {
          "output_type": "execute_result",
          "data": {
            "text/plain": [
              "array([ 0.84147098,  0.90929743,  0.14112001, -0.7568025 , -0.95892427,\n",
              "       -0.2794155 ,  0.6569866 ,  0.98935825,  0.41211849, -0.54402111])"
            ]
          },
          "metadata": {},
          "execution_count": 30
        }
      ]
    },
    {
      "cell_type": "markdown",
      "metadata": {
        "id": "XZyAmyhaG50K"
      },
      "source": [
        "WOAH!  That's completely different than how lists behave.  These computations indicate an important benefit of NumPy.  NumPy is really really good at doing functions to whole arrays of numbers.  In fact, if you try to operate on NumPy arrays, NumPy will try really hard to do the same function many times -- sometimes it will throw an error, but it is meant to behave well.\n",
        "\n",
        "A tradeoff is that NumPy arrays are less flexible than Python lists.  In particular, items in a NumPy array must *all have the same type*.  For example, consider the array below."
      ]
    },
    {
      "cell_type": "code",
      "metadata": {
        "id": "VzUACpuMG50K",
        "colab": {
          "base_uri": "https://localhost:8080/"
        },
        "outputId": "c3931de5-e777-4f47-ae93-3ea0ccf3eb4f"
      },
      "source": [
        "M = np.array([1,2.5,3])  # It looks like an int, float, and int.\n",
        "for m in M:\n",
        "    print(m,\" has type \",type(m)) # What do you think this will do?"
      ],
      "execution_count": 31,
      "outputs": [
        {
          "output_type": "stream",
          "name": "stdout",
          "text": [
            "1.0  has type  <class 'numpy.float64'>\n",
            "2.5  has type  <class 'numpy.float64'>\n",
            "3.0  has type  <class 'numpy.float64'>\n"
          ]
        }
      ]
    },
    {
      "cell_type": "code",
      "metadata": {
        "id": "EnrygH9XG50K",
        "colab": {
          "base_uri": "https://localhost:8080/"
        },
        "outputId": "c51046f3-5561-4d84-870f-54325c294d24"
      },
      "source": [
        "N = [1, 2.5, 3]\n",
        "for n in N:\n",
        "    print(n, \"has type \",type(n)) # Plain Python lists are type-flexible."
      ],
      "execution_count": 32,
      "outputs": [
        {
          "output_type": "stream",
          "name": "stdout",
          "text": [
            "1 has type  <class 'int'>\n",
            "2.5 has type  <class 'float'>\n",
            "3 has type  <class 'int'>\n"
          ]
        }
      ]
    },
    {
      "cell_type": "markdown",
      "metadata": {
        "id": "iPxR4mM3G50K"
      },
      "source": [
        "NumPy will try to *coerce* lists so that all items have the same type.  This can lead to awkward results.  Be careful, and use the `type` command if you're unsure what happened!"
      ]
    },
    {
      "cell_type": "code",
      "metadata": {
        "id": "YxkIMS5AG50K",
        "colab": {
          "base_uri": "https://localhost:8080/"
        },
        "outputId": "269d7b0d-d5b6-4d80-bc0a-579686d943de"
      },
      "source": [
        "O = np.array([False, 2.5, 'Hello']) # NumPy has its own string type too.\n",
        "for o in O:\n",
        "    print(o, \"has type \",type(o))"
      ],
      "execution_count": 33,
      "outputs": [
        {
          "output_type": "stream",
          "name": "stdout",
          "text": [
            "False has type  <class 'numpy.str_'>\n",
            "2.5 has type  <class 'numpy.str_'>\n",
            "Hello has type  <class 'numpy.str_'>\n"
          ]
        }
      ]
    },
    {
      "cell_type": "code",
      "metadata": {
        "id": "R_T6mGsrHhi2",
        "colab": {
          "base_uri": "https://localhost:8080/"
        },
        "outputId": "cc84db19-16cd-4f7c-cea6-a984247d2fed"
      },
      "source": [
        "print(O) # Look at what numpy has done to O!"
      ],
      "execution_count": 34,
      "outputs": [
        {
          "output_type": "stream",
          "name": "stdout",
          "text": [
            "['False' '2.5' 'Hello']\n"
          ]
        }
      ]
    },
    {
      "cell_type": "code",
      "metadata": {
        "id": "-yClO2YYG50L",
        "colab": {
          "base_uri": "https://localhost:8080/"
        },
        "outputId": "6e3a03f3-4e31-4387-d213-06ffce9b37db"
      },
      "source": [
        "P = np.array([1, [2,3]]) # NumPy will not be happy with this.  "
      ],
      "execution_count": 35,
      "outputs": [
        {
          "output_type": "stream",
          "name": "stderr",
          "text": [
            "<ipython-input-35-9fb7854545ca>:1: VisibleDeprecationWarning: Creating an ndarray from ragged nested sequences (which is a list-or-tuple of lists-or-tuples-or ndarrays with different lengths or shapes) is deprecated. If you meant to do this, you must specify 'dtype=object' when creating the ndarray.\n",
            "  P = np.array([1, [2,3]]) # NumPy will not be happy with this.\n"
          ]
        }
      ]
    },
    {
      "cell_type": "markdown",
      "metadata": {
        "id": "ao6PS_RnG50L"
      },
      "source": [
        "### Exercises\n",
        "\n",
        "1.  Use an np.array to make an array of square roots of all the numbers from 1 to 100.  The first few should be 1.0, 1.414..., 1.732.  Use the np.sqrt function and arrays, *not* a for or while loop.\n",
        "\n",
        "2.  Now do the same as above, but using plain Python lists.  Use the %timeit tool to compare the speed of the np.array approach with the plain Python approach.\n",
        "\n",
        "3.  If `L` is a list, what do the commands `L+L`, `7*L`, `L*L` produce?  How is this different from the results if `L` were a numpy array?\n",
        "\n",
        "4.  What types get coerced into what other types, when making a numpy array out of a mixed-type list?"
      ]
    },
    {
      "cell_type": "code",
      "metadata": {
        "id": "AxofGzVIG50L",
        "colab": {
          "base_uri": "https://localhost:8080/"
        },
        "outputId": "6573d8bf-e0e8-4da5-c369-dae66f636529"
      },
      "source": [
        "# Exercise 1.\n",
        "%timeit np.sqrt(np.arange(1,101))"
      ],
      "execution_count": 36,
      "outputs": [
        {
          "output_type": "stream",
          "name": "stdout",
          "text": [
            "2.1 µs ± 459 ns per loop (mean ± std. dev. of 7 runs, 100000 loops each)\n"
          ]
        }
      ]
    },
    {
      "cell_type": "code",
      "source": [
        "# Exercise 2. \n",
        "%timeit [i**.5 for i in range(1,101)]"
      ],
      "metadata": {
        "id": "iIrFIak1-n71",
        "outputId": "539274b2-b645-4e2e-816e-25458fe83730",
        "colab": {
          "base_uri": "https://localhost:8080/"
        }
      },
      "execution_count": 37,
      "outputs": [
        {
          "output_type": "stream",
          "name": "stdout",
          "text": [
            "15.2 µs ± 2.95 µs per loop (mean ± std. dev. of 7 runs, 100000 loops each)\n"
          ]
        }
      ]
    },
    {
      "cell_type": "code",
      "source": [
        "# Exercise 3.\n",
        "L = np.arange(1,10)\n",
        "print(L+L)\n",
        "print(7*L)\n",
        "print(L*L)\n",
        "# The results are doing component-wise operations between L and itself to create a new list"
      ],
      "metadata": {
        "id": "ubZ6DZKJ-6qm",
        "outputId": "c9667e3b-2038-48bd-c2c9-3baeea436890",
        "colab": {
          "base_uri": "https://localhost:8080/"
        }
      },
      "execution_count": 38,
      "outputs": [
        {
          "output_type": "stream",
          "name": "stdout",
          "text": [
            "[ 2  4  6  8 10 12 14 16 18]\n",
            "[ 7 14 21 28 35 42 49 56 63]\n",
            "[ 1  4  9 16 25 36 49 64 81]\n"
          ]
        }
      ]
    },
    {
      "cell_type": "code",
      "source": [
        "# Exercise 4.\n",
        "L = [1, 1.1, True, \"Wow!\"]\n",
        "L = np.array(L)\n",
        "print(L)\n",
        "# It seems that all types are being coerced into Strings"
      ],
      "metadata": {
        "id": "k0Peslux_qSL",
        "outputId": "b494cd7d-b351-4e5a-d368-85e27bdd58f2",
        "colab": {
          "base_uri": "https://localhost:8080/"
        }
      },
      "execution_count": 39,
      "outputs": [
        {
          "output_type": "stream",
          "name": "stdout",
          "text": [
            "['1' '1.1' 'True' 'Wow!']\n"
          ]
        }
      ]
    },
    {
      "cell_type": "markdown",
      "metadata": {
        "id": "q2FM0Vk8G50L"
      },
      "source": [
        "## Higher-dimensional arrays\n",
        "\n",
        "Lists in Python are \"one-dimensional\".  A list like `L = [1,2,3]` has a zeroth, first, and second item (or \"element\" or \"entry\"), which can be retrieved with `L[0]` or `L[1]` or `L[2]`.  For matrices, or other multidimensional arrangements, one might wish for a list which is \"doubly-indexed\" -- something where the entries would be retrieved with a command like `L[1,2]` (for something in the 1st row and 2nd column).  It's possible to make this work in plain Python by using lists of lists.  For example, if `M = [[1,2],[3,4]]` is a list of lists, then you can retrieve numbers with commands like `M[0][1]`.  But this gets a bit cumbersome and is not optimized for typical operations on matrices.\n",
        "\n",
        "### Making multidimensional arrays\n",
        "\n",
        "NumPy arrays can be, and often are, multidimensional.  In fact, why is the NumPy type called `numpy.ndarray` instead of `numpy.array`?  The `nd` in `ndarray` stands for \"n-D\" or \"n-dimensional\".  Accessing elements and slicing multidimensional arrays takes a bit of practice, and that's what we'll do here."
      ]
    },
    {
      "cell_type": "code",
      "metadata": {
        "id": "8Hb4SqpzG50L"
      },
      "source": [
        "M = np.array([[1,2,3],[4,5,6]])  # Put a list of lists into an array."
      ],
      "execution_count": 40,
      "outputs": []
    },
    {
      "cell_type": "code",
      "metadata": {
        "id": "ohkl10AjG50M",
        "colab": {
          "base_uri": "https://localhost:8080/"
        },
        "outputId": "e9038d86-a85e-4f05-eb1a-6735ede0bf34"
      },
      "source": [
        "print(M)"
      ],
      "execution_count": 41,
      "outputs": [
        {
          "output_type": "stream",
          "name": "stdout",
          "text": [
            "[[1 2 3]\n",
            " [4 5 6]]\n"
          ]
        }
      ]
    },
    {
      "cell_type": "markdown",
      "metadata": {
        "id": "sN5IfLnAG50M"
      },
      "source": [
        "If we put a list of lists into an `np.array` then NumPy will try to put it into a single \"multi-dimensional\" array.  Here, NumPy has taken a list of two lists and assembled the items into a two-by-three matrix.  When you use the print command, it will print nicely."
      ]
    },
    {
      "cell_type": "code",
      "metadata": {
        "id": "PnmUbb-VG50M",
        "colab": {
          "base_uri": "https://localhost:8080/"
        },
        "outputId": "e3c354bc-fab0-4be5-eb6b-ada1eaba2464"
      },
      "source": [
        "BadM = np.array([[1,2,3],[1,2]])  # Bad idea."
      ],
      "execution_count": 42,
      "outputs": [
        {
          "output_type": "stream",
          "name": "stderr",
          "text": [
            "<ipython-input-42-230213a6541e>:1: VisibleDeprecationWarning: Creating an ndarray from ragged nested sequences (which is a list-or-tuple of lists-or-tuples-or ndarrays with different lengths or shapes) is deprecated. If you meant to do this, you must specify 'dtype=object' when creating the ndarray.\n",
            "  BadM = np.array([[1,2,3],[1,2]])  # Bad idea.\n"
          ]
        }
      ]
    },
    {
      "cell_type": "code",
      "metadata": {
        "id": "EVDW8gFOG50M",
        "colab": {
          "base_uri": "https://localhost:8080/"
        },
        "outputId": "46f6d84c-0f40-4863-e096-e365b78cc45b"
      },
      "source": [
        "print(BadM) # This will not be pretty."
      ],
      "execution_count": 43,
      "outputs": [
        {
          "output_type": "stream",
          "name": "stdout",
          "text": [
            "[list([1, 2, 3]) list([1, 2])]\n"
          ]
        }
      ]
    },
    {
      "cell_type": "markdown",
      "metadata": {
        "id": "sQ5m0NrVG50M"
      },
      "source": [
        "If your lists don't have the right size to form a matrix, numpy will fail to create a multidimensional array.  It will do its best, but the results won't be pretty!\n",
        "\n",
        "Returning to our nice matrix `M`... just as lists have a single *length* accessed with `len`, multidimensional arrays have a `shape` which describes the number of rows, columns, etc..  This is accessed with the shape *method*."
      ]
    },
    {
      "cell_type": "code",
      "metadata": {
        "id": "0bdGc2NOG50M",
        "colab": {
          "base_uri": "https://localhost:8080/"
        },
        "outputId": "6bfc030b-0d3a-4cfe-a64a-4b97ed65a12e"
      },
      "source": [
        "print(M)\n",
        "M.shape  # shape is an attribute of every matrix.  You don't write shape(M), you write M.shape  "
      ],
      "execution_count": 44,
      "outputs": [
        {
          "output_type": "stream",
          "name": "stdout",
          "text": [
            "[[1 2 3]\n",
            " [4 5 6]]\n"
          ]
        },
        {
          "output_type": "execute_result",
          "data": {
            "text/plain": [
              "(2, 3)"
            ]
          },
          "metadata": {},
          "execution_count": 44
        }
      ]
    },
    {
      "cell_type": "code",
      "metadata": {
        "id": "UTXJVVAfG50M",
        "colab": {
          "base_uri": "https://localhost:8080/"
        },
        "outputId": "bf0f9d71-cac8-41cf-9768-4a953089608e"
      },
      "source": [
        "type(M.shape) # We haven't seen this type in a while!"
      ],
      "execution_count": 45,
      "outputs": [
        {
          "output_type": "execute_result",
          "data": {
            "text/plain": [
              "tuple"
            ]
          },
          "metadata": {},
          "execution_count": 45
        }
      ]
    },
    {
      "cell_type": "code",
      "metadata": {
        "scrolled": true,
        "id": "TeAShdJCG50N",
        "colab": {
          "base_uri": "https://localhost:8080/"
        },
        "outputId": "41e60a93-1fea-4187-b8e1-9fea17b8d1f1"
      },
      "source": [
        "print(2*M)"
      ],
      "execution_count": 46,
      "outputs": [
        {
          "output_type": "stream",
          "name": "stdout",
          "text": [
            "[[ 2  4  6]\n",
            " [ 8 10 12]]\n"
          ]
        }
      ]
    },
    {
      "cell_type": "code",
      "metadata": {
        "id": "FlaNs9_FG50N",
        "colab": {
          "base_uri": "https://localhost:8080/"
        },
        "outputId": "1ccfaa8c-c393-4768-e092-a77b8d3b5399"
      },
      "source": [
        "print(M*M)"
      ],
      "execution_count": 47,
      "outputs": [
        {
          "output_type": "stream",
          "name": "stdout",
          "text": [
            "[[ 1  4  9]\n",
            " [16 25 36]]\n"
          ]
        }
      ]
    },
    {
      "cell_type": "markdown",
      "metadata": {
        "id": "-jO7OBwmG50N"
      },
      "source": [
        "Basic operations and numpy-enabled functions are \"broadcast\" through higher-dimensional arrays, just like they are through one-dimensional list-like arrays.\n",
        "\n",
        "Sometimes it is useful to create arrays of a given shape that are empty, or full of zeros, or full of ones, or full of a single number, or full of random numbers.  You can read about more ways to create arrays from [the official documentation](https://numpy.org/doc/stable/user/basics.creation.html).  The following examples were taken from [another tutorial](http://cs231n.github.io/python-numpy-tutorial/#scipy-image)"
      ]
    },
    {
      "cell_type": "code",
      "metadata": {
        "id": "0I-GFaj3G50N",
        "colab": {
          "base_uri": "https://localhost:8080/"
        },
        "outputId": "fe810c79-2a81-4908-9a1c-e86522fcbb79"
      },
      "source": [
        "a = np.zeros((3,4))   # Create an array of all zeros, of the given shape (3 rows, 4 columns)\n",
        "print(a)            "
      ],
      "execution_count": 48,
      "outputs": [
        {
          "output_type": "stream",
          "name": "stdout",
          "text": [
            "[[0. 0. 0. 0.]\n",
            " [0. 0. 0. 0.]\n",
            " [0. 0. 0. 0.]]\n"
          ]
        }
      ]
    },
    {
      "cell_type": "code",
      "metadata": {
        "id": "0dgg3QkDG50N",
        "colab": {
          "base_uri": "https://localhost:8080/"
        },
        "outputId": "2052b16d-dd26-4b16-a880-435d4cc3b245"
      },
      "source": [
        "b = np.ones((4,2))    # Create an array of all ones, of the given shape.  Note the shape is a tuple.\n",
        "print(b)              "
      ],
      "execution_count": 49,
      "outputs": [
        {
          "output_type": "stream",
          "name": "stdout",
          "text": [
            "[[1. 1.]\n",
            " [1. 1.]\n",
            " [1. 1.]\n",
            " [1. 1.]]\n"
          ]
        }
      ]
    },
    {
      "cell_type": "code",
      "metadata": {
        "id": "3wiNL_9CG50N",
        "colab": {
          "base_uri": "https://localhost:8080/"
        },
        "outputId": "a4ab3829-2359-402e-ed1b-f5448c66b012"
      },
      "source": [
        "c = np.full((3,5), 7)  # Create a constant array, of the given shape and constant.\n",
        "print(c)               "
      ],
      "execution_count": 50,
      "outputs": [
        {
          "output_type": "stream",
          "name": "stdout",
          "text": [
            "[[7 7 7 7 7]\n",
            " [7 7 7 7 7]\n",
            " [7 7 7 7 7]]\n"
          ]
        }
      ]
    },
    {
      "cell_type": "code",
      "metadata": {
        "id": "jwkrYAc_G50N",
        "colab": {
          "base_uri": "https://localhost:8080/"
        },
        "outputId": "de3f8194-f482-45da-f017-ec0bc0f2e67d"
      },
      "source": [
        "d = np.eye(3)         # Create an identity matrix (square) of the given size.\n",
        "print(d)              "
      ],
      "execution_count": 51,
      "outputs": [
        {
          "output_type": "stream",
          "name": "stdout",
          "text": [
            "[[1. 0. 0.]\n",
            " [0. 1. 0.]\n",
            " [0. 0. 1.]]\n"
          ]
        }
      ]
    },
    {
      "cell_type": "code",
      "metadata": {
        "id": "pfskGRu9G50O",
        "colab": {
          "base_uri": "https://localhost:8080/"
        },
        "outputId": "ad152dc5-4811-43a7-d6c3-cf1b28d2eeb7"
      },
      "source": [
        "e = np.random.random((4,4))  # Create an array filled with random floats between 0 and 1.\n",
        "print(e)               "
      ],
      "execution_count": 52,
      "outputs": [
        {
          "output_type": "stream",
          "name": "stdout",
          "text": [
            "[[0.79122653 0.70274647 0.24299796 0.76829051]\n",
            " [0.67155725 0.16916916 0.2867633  0.1193608 ]\n",
            " [0.00706393 0.06361876 0.7446518  0.45901853]\n",
            " [0.38078535 0.64269567 0.94993248 0.33540189]]\n"
          ]
        }
      ]
    },
    {
      "cell_type": "code",
      "metadata": {
        "id": "ngVvQqdMG50O",
        "colab": {
          "base_uri": "https://localhost:8080/"
        },
        "outputId": "1b7d03d3-eebd-45a4-9d1f-91ac4d41d825"
      },
      "source": [
        "f = np.random.randint(1,7,(5,3)) # Roll the dice... an array of random integers between 1 and 6.\n",
        "print(f)"
      ],
      "execution_count": 53,
      "outputs": [
        {
          "output_type": "stream",
          "name": "stdout",
          "text": [
            "[[5 5 3]\n",
            " [6 4 4]\n",
            " [5 2 4]\n",
            " [1 2 2]\n",
            " [6 1 4]]\n"
          ]
        }
      ]
    },
    {
      "cell_type": "code",
      "metadata": {
        "id": "oPLVsVKQG50O",
        "colab": {
          "base_uri": "https://localhost:8080/"
        },
        "outputId": "4eddea86-e8c5-42b4-a452-dfed04fa4f04"
      },
      "source": [
        "cube = np.random.random((2,2,2)) # Why stop at 2-dimensional arrays?  Let's make a cube!\n",
        "print(cube)"
      ],
      "execution_count": 54,
      "outputs": [
        {
          "output_type": "stream",
          "name": "stdout",
          "text": [
            "[[[0.60107708 0.17425614]\n",
            "  [0.27330517 0.46554249]]\n",
            "\n",
            " [[0.22388105 0.45851293]\n",
            "  [0.55751937 0.38240335]]]\n"
          ]
        }
      ]
    },
    {
      "cell_type": "markdown",
      "metadata": {
        "id": "IKz4qDEQG50O"
      },
      "source": [
        "NumPy can work with 3-dimensional, 4-dimensional, etc., arrays with ease.  *Printing* high-dimensional arrays on our 2-dimensional computer monitors might not be pretty, but NumPy will do its best.\n",
        "\n",
        "### A random interlude\n",
        "\n",
        "The previous few examples used NumPy's random subpackage -- a series of functions which can be used to generate \"random\" numbers.  There's a whole science to generating \"random\" and [really random](https://en.wikipedia.org/wiki/Hardware_random_number_generator) numbers.  It can be difficult to convince a computer, designed for predictable operations, to produce truly unpredictbale numbers.  In fact, NumPy's random number generator uses the [Mersenne Twister](https://en.wikipedia.org/wiki/Mersenne_Twister) to generate *pseudo-random* numbers.  These are great for most scientific purposes, e.g., for random sampling.  But they are *not* cryptographically secure -- they should be not be used for generating random cryptographic keys to keep your data secure.  \n",
        "\n",
        "Read the [Numpy documentation](https://numpy.org/doc/1.16/reference/routines.random.html) for more about the capabilities of the random subpackage.  Here are a couple examples to give a quick survey."
      ]
    },
    {
      "cell_type": "code",
      "metadata": {
        "id": "SofAdRCWG50O",
        "colab": {
          "base_uri": "https://localhost:8080/"
        },
        "outputId": "182c8d2c-d4f1-4955-ec06-458797b2e817"
      },
      "source": [
        "np.random.random(3)  # An array of three numbers, uniformly at random in [0,1)"
      ],
      "execution_count": 55,
      "outputs": [
        {
          "output_type": "execute_result",
          "data": {
            "text/plain": [
              "array([0.20982431, 0.05548481, 0.97757296])"
            ]
          },
          "metadata": {},
          "execution_count": 55
        }
      ]
    },
    {
      "cell_type": "code",
      "metadata": {
        "id": "MgS7Hk8lG50O",
        "colab": {
          "base_uri": "https://localhost:8080/"
        },
        "outputId": "ac9e31df-7d7d-4fde-8d0c-0f8f4ed25cfd"
      },
      "source": [
        "np.random.randint(1, 7, (5,5))  # Twenty-five rolls of the dice (random ints).  Note the list-like bottom/top of range."
      ],
      "execution_count": 56,
      "outputs": [
        {
          "output_type": "execute_result",
          "data": {
            "text/plain": [
              "array([[6, 3, 6, 3, 1],\n",
              "       [3, 5, 3, 6, 4],\n",
              "       [2, 1, 4, 2, 3],\n",
              "       [4, 5, 6, 3, 3],\n",
              "       [6, 2, 2, 4, 6]])"
            ]
          },
          "metadata": {},
          "execution_count": 56
        }
      ]
    },
    {
      "cell_type": "code",
      "metadata": {
        "id": "OyP4-jSFG50O",
        "colab": {
          "base_uri": "https://localhost:8080/"
        },
        "outputId": "d3436bc8-9fb7-4d6f-c065-294ec7d7b1f2"
      },
      "source": [
        "np.random.choice(['apple', 'banana', 'orange', 'plum'], 10) # Ten random choices from the list."
      ],
      "execution_count": 57,
      "outputs": [
        {
          "output_type": "execute_result",
          "data": {
            "text/plain": [
              "array(['banana', 'orange', 'orange', 'banana', 'plum', 'orange', 'plum',\n",
              "       'banana', 'banana', 'apple'], dtype='<U6')"
            ]
          },
          "metadata": {},
          "execution_count": 57
        }
      ]
    },
    {
      "cell_type": "code",
      "metadata": {
        "id": "i2W7sx4uG50O",
        "colab": {
          "base_uri": "https://localhost:8080/"
        },
        "outputId": "8a745e99-bad2-4518-9829-3f4205b53769"
      },
      "source": [
        "np.random.randn(10) # Ten random choices from the *normal* or *Gaussian* distribution, mean 0, std 1."
      ],
      "execution_count": 58,
      "outputs": [
        {
          "output_type": "execute_result",
          "data": {
            "text/plain": [
              "array([ 0.73112024, -0.77337612, -1.07795101, -0.09144951, -1.25877388,\n",
              "       -1.38094005, -0.6531762 ,  1.71147552, -1.47893615,  0.6608981 ])"
            ]
          },
          "metadata": {},
          "execution_count": 58
        }
      ]
    },
    {
      "cell_type": "markdown",
      "metadata": {
        "id": "2fQz10w6G50P"
      },
      "source": [
        "### Accessing and slicing multi-dimensional arrays\n",
        "\n",
        "How do we access the terms of a multi-dimensional array?  Let's return to our 2x3 example."
      ]
    },
    {
      "cell_type": "code",
      "metadata": {
        "id": "oStMIIcrG50P",
        "colab": {
          "base_uri": "https://localhost:8080/"
        },
        "outputId": "81e3dcbd-72ee-422e-ac1b-546be5d4c968"
      },
      "source": [
        "print(M) # Remember this matrix?"
      ],
      "execution_count": 59,
      "outputs": [
        {
          "output_type": "stream",
          "name": "stdout",
          "text": [
            "[[1 2 3]\n",
            " [4 5 6]]\n"
          ]
        }
      ]
    },
    {
      "cell_type": "code",
      "metadata": {
        "id": "ijHduhAxG50P",
        "colab": {
          "base_uri": "https://localhost:8080/"
        },
        "outputId": "3a1c8925-0dec-4a27-ea39-9eaf29ed2f56"
      },
      "source": [
        "print(M[0,0], M[0,1], M[0,2]) # What do you think this will do?"
      ],
      "execution_count": 60,
      "outputs": [
        {
          "output_type": "stream",
          "name": "stdout",
          "text": [
            "1 2 3\n"
          ]
        }
      ]
    },
    {
      "cell_type": "code",
      "metadata": {
        "id": "Q3OaCet7G50P",
        "colab": {
          "base_uri": "https://localhost:8080/"
        },
        "outputId": "c522c5f7-3666-4a99-9a99-bfd78c2d2f7f"
      },
      "source": [
        "print(M[1,0],M[1,1],M[1,2]) # And this?"
      ],
      "execution_count": 61,
      "outputs": [
        {
          "output_type": "stream",
          "name": "stdout",
          "text": [
            "4 5 6\n"
          ]
        }
      ]
    },
    {
      "cell_type": "markdown",
      "metadata": {
        "id": "eYe2HMnpG50P"
      },
      "source": [
        "The syntax `M[x,y]` retrieves the value in row #x and column #y, using the Pythonic convention that all numbering starts at zero.  This enables quick access to individual values.  This row-then-column syntax extends to all sorts of array-slicing.  To see this, we begin by creating a bigger matrix.  We'll use the NumPy `reshape` command to take an ordinary 1-dimensional array (the numbers 0...99) and *reshape* this array into a 2-dimensional array with 5 rows and 20 columns."
      ]
    },
    {
      "cell_type": "code",
      "metadata": {
        "id": "8OGXS_qaG50P",
        "colab": {
          "base_uri": "https://localhost:8080/"
        },
        "outputId": "a454014b-4a63-4f86-c8a0-c1cfd942f32e"
      },
      "source": [
        "A = np.array(range(100))\n",
        "print(A) # There might seem to be multiple rows, but that's just because A doesn't fit on a single line.\n",
        "B = np.reshape(A,(5,20))\n",
        "print(B) # Notice the extra brackets!  This is a 2-dimensional array, i.e., a matrix."
      ],
      "execution_count": 62,
      "outputs": [
        {
          "output_type": "stream",
          "name": "stdout",
          "text": [
            "[ 0  1  2  3  4  5  6  7  8  9 10 11 12 13 14 15 16 17 18 19 20 21 22 23\n",
            " 24 25 26 27 28 29 30 31 32 33 34 35 36 37 38 39 40 41 42 43 44 45 46 47\n",
            " 48 49 50 51 52 53 54 55 56 57 58 59 60 61 62 63 64 65 66 67 68 69 70 71\n",
            " 72 73 74 75 76 77 78 79 80 81 82 83 84 85 86 87 88 89 90 91 92 93 94 95\n",
            " 96 97 98 99]\n",
            "[[ 0  1  2  3  4  5  6  7  8  9 10 11 12 13 14 15 16 17 18 19]\n",
            " [20 21 22 23 24 25 26 27 28 29 30 31 32 33 34 35 36 37 38 39]\n",
            " [40 41 42 43 44 45 46 47 48 49 50 51 52 53 54 55 56 57 58 59]\n",
            " [60 61 62 63 64 65 66 67 68 69 70 71 72 73 74 75 76 77 78 79]\n",
            " [80 81 82 83 84 85 86 87 88 89 90 91 92 93 94 95 96 97 98 99]]\n"
          ]
        }
      ]
    },
    {
      "cell_type": "code",
      "metadata": {
        "id": "xgoXloAYG50P",
        "colab": {
          "base_uri": "https://localhost:8080/"
        },
        "outputId": "7c168ab0-6bfa-4030-9f2c-5251dc4a37c3"
      },
      "source": [
        "print(B) # The whole matrix."
      ],
      "execution_count": 63,
      "outputs": [
        {
          "output_type": "stream",
          "name": "stdout",
          "text": [
            "[[ 0  1  2  3  4  5  6  7  8  9 10 11 12 13 14 15 16 17 18 19]\n",
            " [20 21 22 23 24 25 26 27 28 29 30 31 32 33 34 35 36 37 38 39]\n",
            " [40 41 42 43 44 45 46 47 48 49 50 51 52 53 54 55 56 57 58 59]\n",
            " [60 61 62 63 64 65 66 67 68 69 70 71 72 73 74 75 76 77 78 79]\n",
            " [80 81 82 83 84 85 86 87 88 89 90 91 92 93 94 95 96 97 98 99]]\n"
          ]
        }
      ]
    },
    {
      "cell_type": "code",
      "metadata": {
        "id": "g0eQnCLbG50P",
        "colab": {
          "base_uri": "https://localhost:8080/"
        },
        "outputId": "3a1c81bf-2fbd-4c59-b8a3-b4badd9e99e6"
      },
      "source": [
        "print(B[1,:]) # Row 1.  Column anything."
      ],
      "execution_count": 64,
      "outputs": [
        {
          "output_type": "stream",
          "name": "stdout",
          "text": [
            "[20 21 22 23 24 25 26 27 28 29 30 31 32 33 34 35 36 37 38 39]\n"
          ]
        }
      ]
    },
    {
      "cell_type": "code",
      "metadata": {
        "id": "jmvvAphNG50Q",
        "colab": {
          "base_uri": "https://localhost:8080/"
        },
        "outputId": "4ccb7e2b-487d-44a8-ee1a-0415f37a0817"
      },
      "source": [
        "print(B[:, 2]) # Column 2.  Row anything. Notice that it's formatted as a 1-dimensional array!  No longer vertical!"
      ],
      "execution_count": 65,
      "outputs": [
        {
          "output_type": "stream",
          "name": "stdout",
          "text": [
            "[ 2 22 42 62 82]\n"
          ]
        }
      ]
    },
    {
      "cell_type": "code",
      "metadata": {
        "id": "IVuwLtMxG50Q",
        "colab": {
          "base_uri": "https://localhost:8080/"
        },
        "outputId": "f50bd6ee-e7a1-4d4f-b72a-4b6c3bfe3d2d"
      },
      "source": [
        "type(B[:,2]) # Still a numpy array."
      ],
      "execution_count": 66,
      "outputs": [
        {
          "output_type": "execute_result",
          "data": {
            "text/plain": [
              "numpy.ndarray"
            ]
          },
          "metadata": {},
          "execution_count": 66
        }
      ]
    },
    {
      "cell_type": "code",
      "metadata": {
        "id": "1HPO8oFQG50Q",
        "colab": {
          "base_uri": "https://localhost:8080/"
        },
        "outputId": "7edc9b90-66d0-4021-9bdb-f3cf5c5b5ecb"
      },
      "source": [
        "print(B[:, 1::2]) # Every row.  Which columns do you think will be displayed?  Remember start:stop:skip."
      ],
      "execution_count": 67,
      "outputs": [
        {
          "output_type": "stream",
          "name": "stdout",
          "text": [
            "[[ 1  3  5  7  9 11 13 15 17 19]\n",
            " [21 23 25 27 29 31 33 35 37 39]\n",
            " [41 43 45 47 49 51 53 55 57 59]\n",
            " [61 63 65 67 69 71 73 75 77 79]\n",
            " [81 83 85 87 89 91 93 95 97 99]]\n"
          ]
        }
      ]
    },
    {
      "cell_type": "code",
      "metadata": {
        "id": "s-xnNmEqG50Q",
        "colab": {
          "base_uri": "https://localhost:8080/"
        },
        "outputId": "7b21e7d4-5c51-41b0-d569-38719a4fd11b"
      },
      "source": [
        "print(B[1:, 3:5]) # Predict what will happen before you run it."
      ],
      "execution_count": 68,
      "outputs": [
        {
          "output_type": "stream",
          "name": "stdout",
          "text": [
            "[[23 24]\n",
            " [43 44]\n",
            " [63 64]\n",
            " [83 84]]\n"
          ]
        }
      ]
    },
    {
      "cell_type": "markdown",
      "metadata": {
        "id": "ND6GZDOZG50Q"
      },
      "source": [
        "NumPy has nice commands to operate on rows and columns of arrays."
      ]
    },
    {
      "cell_type": "code",
      "metadata": {
        "id": "-EealhzXG50Q",
        "colab": {
          "base_uri": "https://localhost:8080/"
        },
        "outputId": "c2c84020-c3e5-4a35-c8f6-6e07151cffe8"
      },
      "source": [
        "print(B) # Let's just remember what B was."
      ],
      "execution_count": 69,
      "outputs": [
        {
          "output_type": "stream",
          "name": "stdout",
          "text": [
            "[[ 0  1  2  3  4  5  6  7  8  9 10 11 12 13 14 15 16 17 18 19]\n",
            " [20 21 22 23 24 25 26 27 28 29 30 31 32 33 34 35 36 37 38 39]\n",
            " [40 41 42 43 44 45 46 47 48 49 50 51 52 53 54 55 56 57 58 59]\n",
            " [60 61 62 63 64 65 66 67 68 69 70 71 72 73 74 75 76 77 78 79]\n",
            " [80 81 82 83 84 85 86 87 88 89 90 91 92 93 94 95 96 97 98 99]]\n"
          ]
        }
      ]
    },
    {
      "cell_type": "code",
      "metadata": {
        "id": "Aoja1sXKG50Q",
        "colab": {
          "base_uri": "https://localhost:8080/"
        },
        "outputId": "41253570-d7fc-445d-ebc5-3e1952fd7b7f"
      },
      "source": [
        "np.sum(B) # Add up all the terms of B, i.e., 0+1+2+...+99"
      ],
      "execution_count": 70,
      "outputs": [
        {
          "output_type": "execute_result",
          "data": {
            "text/plain": [
              "4950"
            ]
          },
          "metadata": {},
          "execution_count": 70
        }
      ]
    },
    {
      "cell_type": "code",
      "metadata": {
        "id": "l7CYab5UG50R",
        "colab": {
          "base_uri": "https://localhost:8080/"
        },
        "outputId": "ce16d15c-5760-4563-bdba-f1bd59f7227c"
      },
      "source": [
        "print(np.sum(B, axis=0))  # Try this... what does the result mean?"
      ],
      "execution_count": 71,
      "outputs": [
        {
          "output_type": "stream",
          "name": "stdout",
          "text": [
            "[200 205 210 215 220 225 230 235 240 245 250 255 260 265 270 275 280 285\n",
            " 290 295]\n"
          ]
        }
      ]
    },
    {
      "cell_type": "code",
      "metadata": {
        "id": "zA7ectjuG50R",
        "colab": {
          "base_uri": "https://localhost:8080/"
        },
        "outputId": "69afd42f-25c9-43f6-b056-48353f984c10"
      },
      "source": [
        "print(np.sum(B, axis=1))  # And what does this result mean?"
      ],
      "execution_count": 72,
      "outputs": [
        {
          "output_type": "stream",
          "name": "stdout",
          "text": [
            "[ 190  590  990 1390 1790]\n"
          ]
        }
      ]
    },
    {
      "cell_type": "code",
      "metadata": {
        "id": "KA0hJhpIG50R"
      },
      "source": [
        "BigM = np.random.random((1000,1000)) # Just a little array of a million random numbers!"
      ],
      "execution_count": 73,
      "outputs": []
    },
    {
      "cell_type": "code",
      "metadata": {
        "id": "DZK-7_MLG50R",
        "colab": {
          "base_uri": "https://localhost:8080/"
        },
        "outputId": "dddcb532-470c-45a6-e251-b8f119aa4ba6"
      },
      "source": [
        "np.sum(BigM) # Let's just add up a million random numbers."
      ],
      "execution_count": 74,
      "outputs": [
        {
          "output_type": "execute_result",
          "data": {
            "text/plain": [
              "500052.3001380982"
            ]
          },
          "metadata": {},
          "execution_count": 74
        }
      ]
    },
    {
      "cell_type": "code",
      "metadata": {
        "id": "e_4lIvN2G50R",
        "colab": {
          "base_uri": "https://localhost:8080/"
        },
        "outputId": "b941b0f2-c98a-4507-bd2b-d8aca88936ae"
      },
      "source": [
        "%timeit BigM * BigM # Don't print this one."
      ],
      "execution_count": 75,
      "outputs": [
        {
          "output_type": "stream",
          "name": "stdout",
          "text": [
            "810 µs ± 51.7 µs per loop (mean ± std. dev. of 7 runs, 1000 loops each)\n"
          ]
        }
      ]
    },
    {
      "cell_type": "code",
      "metadata": {
        "id": "rb4Vcs0BG50R",
        "colab": {
          "base_uri": "https://localhost:8080/"
        },
        "outputId": "30b58bff-2f2a-46c0-e391-e60a54703f61"
      },
      "source": [
        "%timeit np.sum(BigM)"
      ],
      "execution_count": 76,
      "outputs": [
        {
          "output_type": "stream",
          "name": "stdout",
          "text": [
            "400 µs ± 6.05 µs per loop (mean ± std. dev. of 7 runs, 1000 loops each)\n"
          ]
        }
      ]
    },
    {
      "cell_type": "code",
      "metadata": {
        "id": "uT6MpLFuG50R",
        "colab": {
          "base_uri": "https://localhost:8080/"
        },
        "outputId": "7b0c93cc-28e4-4133-c9bf-97628c54dcf7"
      },
      "source": [
        "%timeit np.sum(BigM, axis=0)"
      ],
      "execution_count": 77,
      "outputs": [
        {
          "output_type": "stream",
          "name": "stdout",
          "text": [
            "408 µs ± 21.3 µs per loop (mean ± std. dev. of 7 runs, 1000 loops each)\n"
          ]
        }
      ]
    },
    {
      "cell_type": "markdown",
      "metadata": {
        "id": "i1bfbkmXG50R"
      },
      "source": [
        "The speed of NumPy can be *startling*.  I mean, really really fast.  Really.  Note that a blink of the eye takes about 400 ms.  And there are 1000 µs (microseconds) in 1 ms (millisecond)."
      ]
    },
    {
      "cell_type": "markdown",
      "metadata": {
        "id": "kcpLRWMxG50R"
      },
      "source": [
        "### Matrix multiplication\n",
        "\n",
        "One of the most important computations in linear algebra is matrix multiplication.  If $M$ and $N$ are two matrices, and the number of columns of $M$ equals the number of rows of $N$, then it's possible to multiply $M$ and $N$ to obtain a matrix product.  \n",
        "\n",
        "Explicitly, if $P = M \\cdot N$ is a matrix product, then the entries of $P$ are given by the formula,\n",
        "$$P_{ij} = \\sum_k M_{ik} N_{kj}.$$\n",
        "Here, notation like $M_{ik}$ stands for the entry of $M$ at row $i$ and column $k$.\n",
        "\n",
        "Let's begin by doing this *explicitly* for NumPy matrices."
      ]
    },
    {
      "cell_type": "code",
      "metadata": {
        "id": "YEd7lOvOG50S"
      },
      "source": [
        "def matrix_mult(M,N):\n",
        "    '''\n",
        "    A function to multiply two NumPy matrices.\n",
        "    This is a bit more verbose than necessary, to improve clarity.\n",
        "    '''\n",
        "    Mrows = M.shape[0] # The number of rows of M\n",
        "    Mcols = M.shape[1] # The number of columns of M.\n",
        "    Nrows = N.shape[0] # The number of rows of N.\n",
        "    Ncols = N.shape[1] # The number of columns of N.\n",
        "    if Mcols != Nrows:\n",
        "        raise ValueError('The number of columns and rows do not match.')\n",
        "    P = np.zeros((Mrows,Ncols)) # Initialize the product matrix to all zeros, the right shape.\n",
        "    Prows = Mrows\n",
        "    Pcols = Ncols\n",
        "    for i in range(Prows):\n",
        "        for j in range(Pcols):\n",
        "            # Now we are going to compute P_ij, the entry at row i and column j in the product matrix.\n",
        "            # This is the sum in the above formula.  We set the running total to zero.\n",
        "            S = 0\n",
        "            for k in range(Mcols):\n",
        "                S = S + M[i,k]*N[k,j] # Compare to the formula above!\n",
        "            P[i,j] = S\n",
        "    return P"
      ],
      "execution_count": 78,
      "outputs": []
    },
    {
      "cell_type": "code",
      "metadata": {
        "id": "GR9hWyiyG50S",
        "colab": {
          "base_uri": "https://localhost:8080/"
        },
        "outputId": "21f433a6-42a6-4f5b-97bb-3d712adc1754"
      },
      "source": [
        "A = np.array([[1,2,3],[4,5,6]])\n",
        "print(A)\n",
        "B = np.array([[1,2],[3,4],[5,6]])\n",
        "print(B)"
      ],
      "execution_count": 79,
      "outputs": [
        {
          "output_type": "stream",
          "name": "stdout",
          "text": [
            "[[1 2 3]\n",
            " [4 5 6]]\n",
            "[[1 2]\n",
            " [3 4]\n",
            " [5 6]]\n"
          ]
        }
      ]
    },
    {
      "cell_type": "code",
      "metadata": {
        "id": "2M94QvgJG50S",
        "colab": {
          "base_uri": "https://localhost:8080/"
        },
        "outputId": "8c02d7eb-cadd-4984-efff-b9d5ef158338"
      },
      "source": [
        "print(matrix_mult(A,B)) # Will it work?  Can you predict the shape of the result?"
      ],
      "execution_count": 80,
      "outputs": [
        {
          "output_type": "stream",
          "name": "stdout",
          "text": [
            "[[22. 28.]\n",
            " [49. 64.]]\n"
          ]
        }
      ]
    },
    {
      "cell_type": "markdown",
      "metadata": {
        "id": "mnKarXi6G50S"
      },
      "source": [
        "It's good to study the code above, to understand how it connects to the definition of matrix multiplication.  But since matrix multiplication comes up so often, the designers of NumPy have implemented a highly optimized version.  This is called `dot`."
      ]
    },
    {
      "cell_type": "code",
      "metadata": {
        "scrolled": true,
        "id": "4zdwlNcWG50S",
        "colab": {
          "base_uri": "https://localhost:8080/"
        },
        "outputId": "95d3a9ab-3b4f-46c8-a15e-eb09cb34bf17"
      },
      "source": [
        "print(np.dot(A,B))"
      ],
      "execution_count": 81,
      "outputs": [
        {
          "output_type": "stream",
          "name": "stdout",
          "text": [
            "[[22 28]\n",
            " [49 64]]\n"
          ]
        }
      ]
    },
    {
      "cell_type": "code",
      "metadata": {
        "id": "e7YswFH_G50S",
        "colab": {
          "base_uri": "https://localhost:8080/"
        },
        "outputId": "c33b4a90-279d-4308-acd9-f119e88c5406"
      },
      "source": [
        "%timeit matrix_mult(A,B)"
      ],
      "execution_count": 82,
      "outputs": [
        {
          "output_type": "stream",
          "name": "stdout",
          "text": [
            "13.5 µs ± 4.31 µs per loop (mean ± std. dev. of 7 runs, 100000 loops each)\n"
          ]
        }
      ]
    },
    {
      "cell_type": "code",
      "metadata": {
        "id": "MUCdKFu_G50S",
        "colab": {
          "base_uri": "https://localhost:8080/"
        },
        "outputId": "f0f6f8cc-fda2-4ebc-b134-481d263958e6"
      },
      "source": [
        "%timeit np.dot(A,B)"
      ],
      "execution_count": 83,
      "outputs": [
        {
          "output_type": "stream",
          "name": "stdout",
          "text": [
            "3.15 µs ± 1.09 µs per loop (mean ± std. dev. of 7 runs, 100000 loops each)\n"
          ]
        }
      ]
    },
    {
      "cell_type": "markdown",
      "metadata": {
        "id": "LGXK_6lbG50S"
      },
      "source": [
        "Let's see how the speedup works for bigger matrices... like 100 by 100 matrices with 10000 random floats in each!"
      ]
    },
    {
      "cell_type": "code",
      "metadata": {
        "id": "noU2afJQG50S"
      },
      "source": [
        "A = np.random.random((100,100))\n",
        "B = np.random.random((100,100))"
      ],
      "execution_count": 84,
      "outputs": []
    },
    {
      "cell_type": "code",
      "metadata": {
        "id": "uazliR6fG50S",
        "colab": {
          "base_uri": "https://localhost:8080/"
        },
        "outputId": "d44e1403-6f6f-4776-9405-d132360fe5f8"
      },
      "source": [
        "%timeit matrix_mult(A,B)"
      ],
      "execution_count": 85,
      "outputs": [
        {
          "output_type": "stream",
          "name": "stdout",
          "text": [
            "434 ms ± 9.46 ms per loop (mean ± std. dev. of 7 runs, 1 loop each)\n"
          ]
        }
      ]
    },
    {
      "cell_type": "code",
      "metadata": {
        "id": "ulJhtxxaG50T",
        "colab": {
          "base_uri": "https://localhost:8080/"
        },
        "outputId": "de3d866d-ce7f-4358-ac8a-da511d3e880d"
      },
      "source": [
        "%timeit np.dot(A,B) # How about that for a speedup!!"
      ],
      "execution_count": 86,
      "outputs": [
        {
          "output_type": "stream",
          "name": "stdout",
          "text": [
            "121 µs ± 42.3 µs per loop (mean ± std. dev. of 7 runs, 10000 loops each)\n"
          ]
        }
      ]
    },
    {
      "cell_type": "markdown",
      "metadata": {
        "id": "Fdj-r-0OG50T"
      },
      "source": [
        "Check the units... how much faster does np.dot run than our basic Python loop implementation?"
      ]
    },
    {
      "cell_type": "markdown",
      "metadata": {
        "id": "fx0ECqIxG50T"
      },
      "source": [
        "### Exercises\n",
        "\n",
        "1.  Put the list of numbers `[1,...,12]` into all possible shapes of 2-dimensional, and 3-dimensional numpy arrays, using the reshape command.  Print the results.  Only try the shapes where all dimensions are greater than one (i.e., don't make a 1 by 12 array).\n",
        "\n",
        "2.  Make a square array containing the numbers `[0,...,99]`.  Use list-slicing syntax to reverse the row-order of this array.  Use list-slicing syntax to *transpose* this array (reflect it across the diagonal of the original).\n",
        "\n",
        "3.  If you roll ten fair 6-sided dice, you expect the total to be 35, on average.  The minimum total would be 10 and the maximum would be 60.  Use numpy to create a array with 50 rows and 10 columns of random dice rolls (random integers between 1 and 6).  By summing rows, create an array of numbers between 10 and 60.  What is the average of this array (a number between 10 and 60)?  What is the standard deviation of this array?  (Use the `np.std` function for standard deviation.)  Use numpy functions throughout -- no loops please!  \n",
        "\n",
        "4.  Define a function `matrix_pow(M,e)` which takes as input a *square* matrix `M` and a natural number `e`.  The output should be the result of matrix multiplication, with `M` multiplied by itself `e` times.  When `e` is zero, the function should output the identity matrix `np.eye(s)` where `s` is the number of rows (or columns) of `M`.\n",
        "\n",
        "5.  The matrix exponential is defined by the same Taylor series as the usual exponential function, but one allows square matrices as inputs instead of just numbers.  Define a function `matrix_exp(M)` which computes the matrix exponential of `M` using the first 20 terms of the (familiar) series, and uses the `matrix_pow` function from the previous question."
      ]
    },
    {
      "cell_type": "code",
      "source": [
        "# Exercise 1.\n",
        "\n",
        " # return all non-trivial (1 and n) factors of n.\n",
        "def factors(n):\n",
        "    return [i for i in range(2, 1 + (n//2)) if n % i == 0]\n",
        "\n",
        "arr = np.arange(1,13)\n",
        "# 2-d case\n",
        "for width in factors(len(arr)):\n",
        "    print(arr.reshape(width, len(arr) // width))\n",
        "    for height in factors(len(arr) // width):\n",
        "        print(arr.reshape(width,height, len(arr) // (width * height)))\n"
      ],
      "metadata": {
        "id": "Q4RASYZM7Y5M",
        "outputId": "b2ef6c77-d7b6-4c04-cbc5-20c448b632ae",
        "colab": {
          "base_uri": "https://localhost:8080/"
        }
      },
      "execution_count": 124,
      "outputs": [
        {
          "output_type": "stream",
          "name": "stdout",
          "text": [
            "[[ 1  2  3  4  5  6]\n",
            " [ 7  8  9 10 11 12]]\n",
            "[[[ 1  2  3]\n",
            "  [ 4  5  6]]\n",
            "\n",
            " [[ 7  8  9]\n",
            "  [10 11 12]]]\n",
            "[[[ 1  2]\n",
            "  [ 3  4]\n",
            "  [ 5  6]]\n",
            "\n",
            " [[ 7  8]\n",
            "  [ 9 10]\n",
            "  [11 12]]]\n",
            "[[ 1  2  3  4]\n",
            " [ 5  6  7  8]\n",
            " [ 9 10 11 12]]\n",
            "[[[ 1  2]\n",
            "  [ 3  4]]\n",
            "\n",
            " [[ 5  6]\n",
            "  [ 7  8]]\n",
            "\n",
            " [[ 9 10]\n",
            "  [11 12]]]\n",
            "[[ 1  2  3]\n",
            " [ 4  5  6]\n",
            " [ 7  8  9]\n",
            " [10 11 12]]\n",
            "[[ 1  2]\n",
            " [ 3  4]\n",
            " [ 5  6]\n",
            " [ 7  8]\n",
            " [ 9 10]\n",
            " [11 12]]\n"
          ]
        }
      ]
    },
    {
      "cell_type": "code",
      "source": [
        "# Exercise 2.\n",
        "arr = np.arange(0,100).reshape(10,10)\n",
        "revrow = arr[:,::-1]\n",
        "print(revrow)\n",
        "transpose = np.zeros((10,10))\n",
        "for i in range(10):\n",
        "    transpose[:,i] = arr[i,:]\n",
        "print(transpose)"
      ],
      "metadata": {
        "id": "BVM6SbCYA7Yl",
        "outputId": "035192d5-f5a4-4ba8-a25c-ba89d6d1581d",
        "colab": {
          "base_uri": "https://localhost:8080/"
        }
      },
      "execution_count": 139,
      "outputs": [
        {
          "output_type": "stream",
          "name": "stdout",
          "text": [
            "[[ 9  8  7  6  5  4  3  2  1  0]\n",
            " [19 18 17 16 15 14 13 12 11 10]\n",
            " [29 28 27 26 25 24 23 22 21 20]\n",
            " [39 38 37 36 35 34 33 32 31 30]\n",
            " [49 48 47 46 45 44 43 42 41 40]\n",
            " [59 58 57 56 55 54 53 52 51 50]\n",
            " [69 68 67 66 65 64 63 62 61 60]\n",
            " [79 78 77 76 75 74 73 72 71 70]\n",
            " [89 88 87 86 85 84 83 82 81 80]\n",
            " [99 98 97 96 95 94 93 92 91 90]]\n",
            "[[ 0. 10. 20. 30. 40. 50. 60. 70. 80. 90.]\n",
            " [ 1. 11. 21. 31. 41. 51. 61. 71. 81. 91.]\n",
            " [ 2. 12. 22. 32. 42. 52. 62. 72. 82. 92.]\n",
            " [ 3. 13. 23. 33. 43. 53. 63. 73. 83. 93.]\n",
            " [ 4. 14. 24. 34. 44. 54. 64. 74. 84. 94.]\n",
            " [ 5. 15. 25. 35. 45. 55. 65. 75. 85. 95.]\n",
            " [ 6. 16. 26. 36. 46. 56. 66. 76. 86. 96.]\n",
            " [ 7. 17. 27. 37. 47. 57. 67. 77. 87. 97.]\n",
            " [ 8. 18. 28. 38. 48. 58. 68. 78. 88. 98.]\n",
            " [ 9. 19. 29. 39. 49. 59. 69. 79. 89. 99.]]\n"
          ]
        }
      ]
    },
    {
      "cell_type": "code",
      "source": [
        "# Exercise 3.\n",
        "dicerolls = np.random.randint(1,high=7,size = (50,10))\n",
        "sums = np.sum(dicerolls,axis = 1)\n",
        "print(sums)\n",
        "print(np.average(sums))\n",
        "print(np.std(sums))"
      ],
      "metadata": {
        "id": "I-fQnHwlDDXo",
        "outputId": "cb73836a-4fc7-4efe-c7f3-f0bccf3e5214",
        "colab": {
          "base_uri": "https://localhost:8080/"
        }
      },
      "execution_count": 145,
      "outputs": [
        {
          "output_type": "stream",
          "name": "stdout",
          "text": [
            "[28 42 30 38 34 38 36 30 46 36 28 25 42 31 35 39 32 32 36 45 37 31 28 38\n",
            " 36 29 29 36 31 29 41 36 39 34 31 41 28 26 31 45 32 44 34 38 34 42 34 40\n",
            " 39 36]\n",
            "35.04\n",
            "5.268624108816267\n"
          ]
        }
      ]
    },
    {
      "cell_type": "code",
      "source": [
        "# Exercise 4.\n",
        "def matrix_pow(M,e):\n",
        "    output = np.eye(np.size(M,1))\n",
        "    for _ in range(e):\n",
        "        output =np.dot(output, M)\n",
        "    return output"
      ],
      "metadata": {
        "id": "mQexNiReFAf-"
      },
      "execution_count": 150,
      "outputs": []
    },
    {
      "cell_type": "code",
      "source": [
        "# Exercise 5.\n",
        "def matrix_exp(M):\n",
        "    terms = 20\n",
        "    sum = np.eye(np.size(M,1))\n",
        "    for i in range(1,terms+1):\n",
        "        sum += matrix_pow(M, i) / np.math.factorial(i)\n",
        "    return sum\n",
        "temp = np.array([0,-np.pi,np.pi,0]).reshape((2,2)) # i * pi as a matrix\n",
        "matrix_exp(temp) #e ^ (i * pi) = -1"
      ],
      "metadata": {
        "id": "9gw82u4hFv5o",
        "outputId": "1f2b6f50-1ee8-4a41-870c-00c69d4b4987",
        "colab": {
          "base_uri": "https://localhost:8080/"
        }
      },
      "execution_count": 164,
      "outputs": [
        {
          "output_type": "execute_result",
          "data": {
            "text/plain": [
              "array([[-1.00000000e+00,  5.28918724e-10],\n",
              "       [-5.28918724e-10, -1.00000000e+00]])"
            ]
          },
          "metadata": {},
          "execution_count": 164
        }
      ]
    },
    {
      "cell_type": "markdown",
      "metadata": {
        "id": "iQZKmbIbG50T"
      },
      "source": [
        "## Introduction to 2-dimensional graphics in Python\n",
        "\n",
        "The visualization of quantitative information is a huge field of study.  The now-classic book in the field is Edward Tufte's [The Visual Display of Quantitative Information](https://www.edwardtufte.com/tufte/books_vdqi), but you can find much earlier works by the best-named statistician [Playfair](https://en.wikipedia.org/wiki/William_Playfair) or the beautiful but vexing *Semiology of Graphics* by Jacques Bertin.\n",
        "\n",
        "In this notebook, we are going to introduce two tools for visualization.  The first is [matplotlib](https://matplotlib.org/), which has the same number of letters and syllables as [manbearpig](https://en.wikipedia.org/wiki/ManBearPig).  Matplotlib is an excellent tool for creating a huge number of \"standard\" graphs and charts.  It works very nicely in Jupyter notebooks, interfaces with numpy, and is very widely supported.\n",
        "\n",
        "The second tool is [Pillow](https://python-pillow.org/) which is the new and fluffy incarnation of PIL, the Python Imaging Library.  We will use Pillow for \"low-level\" 2-dimensional image manipulation.  Pillow is great when we want to create or modify an image pixel-by-pixel.  It's not so great if we just want to make a graph with some dots, lines, axes, and labels.  \n",
        "\n",
        "Other tools worth consideration are:  [SVGwrite](https://pypi.org/project/svgwrite/) for working with scalable vector graphics and [Bokeh](https://bokeh.pydata.org/en/latest/) for making very pretty interactive graphics on the web.  Also [Seaborn](https://seaborn.pydata.org/) for a visualization system based on matplotlib, but with more modern styling.  For producing print-ready graphics, I use a strange combination of Python and [TikZ/PGF](http://www.texample.net/tikz/examples/all/)."
      ]
    },
    {
      "cell_type": "markdown",
      "metadata": {
        "id": "cagHlDQrG50T"
      },
      "source": [
        "### Introduction to matplotlib\n",
        "\n",
        "Matplotlib can be used to make all sorts of graphs and charts from your data.  Often the best way to use matplotlib is to look at the [matplotlib gallery](https://matplotlib.org/gallery/index.html) and find an example as a starting point.  But it's difficult getting started with matplotlib unless you understand its basic framework.\n",
        "\n",
        "Here we limit ourselves to three fundamental types of visualization in matplotlib:  the [histogram](https://en.wikipedia.org/wiki/Histogram), the [line chart](https://en.wikipedia.org/wiki/Line_chart), and the [scatter plot](https://en.wikipedia.org/wiki/Scatter_plot).  To use matplotlib's plotting capabilities, we load the matplotlib.pyplot package as plt (just as we loaded numpy as np).  The pyplot part of matplotlib is meant to work like Matlab.  You can follow the [official pyplot tutorial](https://matplotlib.org/tutorials/introductory/pyplot.html) for more."
      ]
    },
    {
      "cell_type": "code",
      "metadata": {
        "id": "MdIVQTnAG50T"
      },
      "source": [
        "import matplotlib.pyplot as plt # Use plt.<command> hereafter."
      ],
      "execution_count": null,
      "outputs": []
    },
    {
      "cell_type": "markdown",
      "metadata": {
        "id": "mC38n2P0G50T"
      },
      "source": [
        "### Scatter plots"
      ]
    },
    {
      "cell_type": "markdown",
      "metadata": {
        "id": "Yx12ZWTAG50T"
      },
      "source": [
        "The *scatter plot* might be the simplest sort of 2-dimensional data visualization.  If your data is a set of ordered pairs $(x,y)$ of numbers, then a scatter plot visualizes this data by putting a dot at every coordinate in the data.  Here is a minimalist example.  Note that the data is organized as *two separate arrays* -- one for the x-coordinates and the other for the y-coordinates.  "
      ]
    },
    {
      "cell_type": "code",
      "metadata": {
        "id": "WI5VgBdWG50U"
      },
      "source": [
        "xlist = np.random.randint(1,11,20) # A list of 20 random numbers between 1 and 10\n",
        "ylist = np.random.randint(1,11,20) # Another such list.\n",
        "print(xlist)\n",
        "print(ylist)"
      ],
      "execution_count": null,
      "outputs": []
    },
    {
      "cell_type": "markdown",
      "metadata": {
        "id": "whG9Jt6HG50U"
      },
      "source": [
        "We are going to use these numbers as the x-coordinates and y-coordinates for a series of dots.  A more explicit description is given by running the cell below.  (Also, a reminder of string formatting!)"
      ]
    },
    {
      "cell_type": "code",
      "metadata": {
        "id": "v99tzXdrG50U"
      },
      "source": [
        "for i in range(len(xlist)):\n",
        "    print(\"({}, {}) will be plotted\".format(xlist[i], ylist[i]))"
      ],
      "execution_count": null,
      "outputs": []
    },
    {
      "cell_type": "code",
      "metadata": {
        "id": "k5wOAKl1G50U"
      },
      "source": [
        "plt.scatter(xlist, ylist) # A picture should pop up!  If it doesn't, please get help."
      ],
      "execution_count": null,
      "outputs": []
    },
    {
      "cell_type": "code",
      "metadata": {
        "id": "oOrMfpS-G50U"
      },
      "source": [
        "xlist = np.random.random(500) # A list of 500 random floats between 0 and 1.\n",
        "ylist = np.random.random(500) # Another such list.\n",
        "plt.scatter(xlist, ylist)"
      ],
      "execution_count": null,
      "outputs": []
    },
    {
      "cell_type": "markdown",
      "metadata": {
        "id": "pyUGT7qFG50U"
      },
      "source": [
        "These examples are minimalist -- the quickest way to produce a plot, using all the matplotlib defaults.  Notice the axis ticks are automatically placed, the color of dots is an intelligent shade of blue, and the dots have a pleasing size and soft edge.  The single `plt.scatter(xlist, ylist)` created quite a complicated image from two lists of numbers.\n",
        "\n",
        "Behind the scenes, there is a lot going on!  In fact, the `plt.scatter` function activates the pyplot *state machine* and *changes its state*.  When the cell containing the `plt.scatter` function is finished with its execution, the figure is rendered as an image in your browser, and the *state machine* is closed down.  \n",
        "\n",
        "This \"state machine\" initializes a data structure, changes it according to `plt.<command>` functions, renders it to your browser, then disposes of the evidence.  Here is a more complicated example, which might be easier to decode."
      ]
    },
    {
      "cell_type": "code",
      "metadata": {
        "id": "jloINAG8G50U"
      },
      "source": [
        "xlist = np.random.random(500) # A list of 500 random floats between 0 and 1.\n",
        "ylist = np.random.random(500) # Another such list.\n",
        "\n",
        "plt.figure(figsize=(6,6))\n",
        "plt.scatter(xlist, ylist, alpha=0.5, c='gold', s=50)\n",
        "plt.xlabel('Age of banana slug (in days)')\n",
        "plt.ylabel('Taste of banana slug (1 = tastiest)')\n",
        "plt.title('Age vs taste of banana slugs')\n",
        "plt.show()"
      ],
      "execution_count": null,
      "outputs": []
    },
    {
      "cell_type": "markdown",
      "metadata": {
        "id": "GMjpmErvG50U"
      },
      "source": [
        "We're going to go through the whole figure-creation and display, line by line.  There's a lot going on!\n",
        "\n",
        "1.  `plt.figure(figsize=(6,6))` starts the pyplot \"state machine\" by initializing a figure which is 6 inches by 6 inches in size.  The size on your screen may appear different, because your browser is smart.  If you want to manually set the figure size, you should do this before everything else.  All other `plt` commands in the cell will operate on this figure (the \"state\" of the \"state machine\").  Here is the basic [anatomy of a matplotlib figure](https://matplotlib.org/tutorials/introductory/usage.html)... it's quite complicated!\n",
        "\n",
        "2.  `plt.scatter(xlist, ylist, alpha=0.5, c='gold', s=50)`.  This uses pyplot's built-in scatter-plot-maker.  The xlist and ylist are the lists of x-coordinates and y-coordinates... the data which is being plotted.  The `alpha` parameter sets the transparency of the dots, which is very important when there are overlaps!  An alpha value of 1 yields completely opaque dots.  The `c` parameter sets the color of the dots.  Here the dot color is set to `gold`.  Here is a [list of named colors](https://matplotlib.org/examples/color/named_colors.html).  More fun than crayons!  The `s` parameter sets the size of the dots, measured by area.  Here is the [complete list of parameters](https://matplotlib.org/api/_as_gen/matplotlib.pyplot.scatter.html) that can be passed to the `plt.scatter` function.\n",
        "\n",
        "3.  `plt.xlabel('Age of banana slug (in days)')`.  This sets the label on the x-axis of the active figure.\n",
        "\n",
        "4.  `plt.ylabel('Taste of banana slug (1 = tastiest)')`.  This sets the label on the y-axis of the active figure.\n",
        "\n",
        "5.  `plt.title('Age vs taste of banana slugs')`.  This sets the title of the active figure.\n",
        "\n",
        "6.  `plt.show()`.  Not strictly necessary, but a good habit.  This shows the plot.  After the cell is run, the \"state machine\" is effectively turned off and forgotten.  `plt` commands in later cells will not be able to change the plot you've created.\n",
        "\n",
        "You might wish to change some of the parameters in the above figure, and re-run the cell, to see the effect."
      ]
    },
    {
      "cell_type": "code",
      "metadata": {
        "id": "qJ47fta6G50U"
      },
      "source": [
        "plt.xlabel('Can I change the label?')"
      ],
      "execution_count": null,
      "outputs": []
    },
    {
      "cell_type": "markdown",
      "metadata": {
        "id": "-iXNZr6nG50U"
      },
      "source": [
        "When the banana-slug cell was executed, its state machine was turned off.  So if you try to make a change in a new cell with `plt.xlabel('...')`, you will end up *restarting* the state-machine in a mostly empty state, and then setting the xlabel of this new figure.  When you run the new cell, the figure is displayed, with your new label, and that state machine is terminated."
      ]
    },
    {
      "cell_type": "markdown",
      "metadata": {
        "id": "kN8n7rzxG50V"
      },
      "source": [
        "Now we will make a scatterplot using the sine function.  Along the way, we use the numpy `arange` function.  The function `np.arange(a,b,s)` generates a numpy array which starts at `a` and ends *before* `b` and uses a step-size of `s`.  It's a lot like a range command, but... note that the `arange` function *does* put all the numbers into memory.  So beware and do not try to store a trillion numbers in your computer memory!"
      ]
    },
    {
      "cell_type": "code",
      "metadata": {
        "id": "l2xpLSqpG50V"
      },
      "source": [
        "print(np.arange(0,10,1)) # Looks familiar?"
      ],
      "execution_count": null,
      "outputs": []
    },
    {
      "cell_type": "code",
      "metadata": {
        "id": "lDxnZs3FG50V"
      },
      "source": [
        "print(np.arange(0,5,0.3)) # A bit more flexible."
      ],
      "execution_count": null,
      "outputs": []
    },
    {
      "cell_type": "code",
      "metadata": {
        "id": "uBcK29uqG50V"
      },
      "source": [
        "range(0,5,0.3) # The range command does not play nicely with floats."
      ],
      "execution_count": null,
      "outputs": []
    },
    {
      "cell_type": "code",
      "metadata": {
        "id": "s5rb1SR5G50V"
      },
      "source": [
        "xlist = np.arange(0, 10,0.1) # The list 0,0.1, 0.2, 0.3, etc. up to 9.9.\n",
        "sinlist = np.sin(xlist) # apply the sine function to each item in the list, via broadcasting.\n",
        "coslist = np.cos(xlist)"
      ],
      "execution_count": null,
      "outputs": []
    },
    {
      "cell_type": "code",
      "metadata": {
        "id": "-un5urMfG50V"
      },
      "source": [
        "plt.figure(figsize=(15,5))\n",
        "plt.scatter(xlist, sinlist, alpha=0.5, c='blue', marker='x') # See the marker?\n",
        "plt.scatter(xlist, coslist, alpha=0.5, c='red', marker='o') # Multiple plots, no problem!\n",
        "plt.grid() # A grid might help.\n",
        "plt.xlabel('Time (in seconds)')\n",
        "plt.ylabel('Height of ball on spring (in cm)')\n",
        "plt.title('Observed trajectory of balls on spring')\n",
        "plt.show()"
      ],
      "execution_count": null,
      "outputs": []
    },
    {
      "cell_type": "markdown",
      "metadata": {
        "id": "P9QotgZyG50V"
      },
      "source": [
        "### Line plots in matplotlib\n",
        "\n",
        "The previous example contains plots of the sine and cosine functions.  It is a bit unusual to plot functions with scatterplots; one would typically use a plot that \"connects the dots\" to reflect the continuity of the functions. While `plt.scatter` produces a scatter-plot, the simply-named `plt.plot` command produces a plot that connects the dots.   "
      ]
    },
    {
      "cell_type": "code",
      "metadata": {
        "id": "tC4B89EhG50V"
      },
      "source": [
        "plt.figure(figsize=(15,5))\n",
        "plt.plot(xlist, sinlist, alpha=0.5, c='blue') \n",
        "plt.plot(xlist, coslist, alpha=0.5, c='red') # Multiple plots, no problem!\n",
        "plt.grid() # A grid might help.\n",
        "plt.xlabel('$x$') # Notice the dollar signs... matplotlib understands basic LaTeX in text!\n",
        "plt.ylabel('$y$')\n",
        "plt.title('Graphs of $y = \\sin(x)$ and $y = \\cos(x)$')\n",
        "plt.show()"
      ],
      "execution_count": null,
      "outputs": []
    },
    {
      "cell_type": "markdown",
      "metadata": {
        "id": "7IFx8KA_G50V"
      },
      "source": [
        "Like everything with matplotlib, there are zillions of possible adjustments and additions one can make to this plot.  Here we just mention two.\n",
        "\n",
        "1.  Changing the axis ticks to be more relevant.\n",
        "2.  A *legend* that is advisable when plotting multiple functions."
      ]
    },
    {
      "cell_type": "code",
      "metadata": {
        "id": "U3W2o0H5G50V"
      },
      "source": [
        "plt.figure(figsize=(15,5))\n",
        "plt.plot(xlist, sinlist, alpha=0.5, c='blue', label='$y=\\sin(x)$') # label for the legend.\n",
        "plt.plot(xlist, coslist, alpha=0.5, c='red', label='$y=\\cos(x)$') # label for the legend.\n",
        "plt.xticks(np.arange(0,10,np.pi/2)) # x-axis ticks (gridlines) are at multiples of pi/2.\n",
        "plt.grid() # A grid might help.\n",
        "plt.xlabel('$x$') # Notice the dollar signs... matplotlib understands basic LaTeX in text!\n",
        "plt.ylabel('$y$')\n",
        "plt.title('Graphs of $y = \\sin(x)$ and $y = \\cos(x)$')\n",
        "plt.legend() # Insert the legend, based on the plot labels.\n",
        "plt.show()"
      ],
      "execution_count": null,
      "outputs": []
    },
    {
      "cell_type": "markdown",
      "metadata": {
        "id": "Sfse_MuRG50W"
      },
      "source": [
        "Note the x-ticks are at $0$, $\\pi/2$, $\\pi$, $3 \\pi / 2$, etc..  But they are labeled by floating point values.  We can fix this by making custom labels.  We store the x-tick locations in a numpy array `pimult` and the x-tick labels in another numpy array (of strings) `xlabels`.  It's a bit tedious, but the result will look nice.  Note that matplotlib will process the basic LaTeX that we use in the labels."
      ]
    },
    {
      "cell_type": "code",
      "metadata": {
        "id": "OIW7QynZG50W"
      },
      "source": [
        "pimult = np.arange(0,10,np.pi / 2) # The list of locations of the x-ticks.\n",
        "xlabels = np.array(['0', '$\\pi/2$', '$\\pi$', '$3 \\pi / 2$', '$2 \\pi$', '$5 \\pi / 2$', '$3 \\pi$'])"
      ],
      "execution_count": null,
      "outputs": []
    },
    {
      "cell_type": "code",
      "metadata": {
        "id": "8a9Qm7iyG50W"
      },
      "source": [
        "plt.figure(figsize=(15,5))\n",
        "plt.plot(xlist, sinlist, alpha=0.5, c='blue', label='$y=\\sin(x)$') # label for the legend.\n",
        "plt.plot(xlist, coslist, alpha=0.5, c='red', label='$y=\\cos(x)$') # label for the legend.\n",
        "plt.xticks(pimult, xlabels) # x-axis ticks and labels.\n",
        "plt.grid() # A grid might help.\n",
        "plt.xlabel('$x$') # Notice the dollar signs... matplotlib understands basic LaTeX in text!\n",
        "plt.ylabel('$y$')\n",
        "plt.title('Graphs of $y = \\sin(x)$ and $y = \\cos(x)$')\n",
        "plt.legend() # Insert the legend, based on the plot labels.\n",
        "plt.show()"
      ],
      "execution_count": null,
      "outputs": []
    },
    {
      "cell_type": "markdown",
      "metadata": {
        "id": "m5zcUpMNG50W"
      },
      "source": [
        "For plotting functions, there are many tools out there.  One can use [Desmos](https://www.desmos.com/), for example, or Excel, or *Grapher* (preinstalled on every Apple computer).  But the line plotting in matplotlib is more flexible than most.  For example, let's plot a \"random walk\"."
      ]
    },
    {
      "cell_type": "code",
      "metadata": {
        "id": "qpLTZgXeG50W"
      },
      "source": [
        "xlist = np.zeros(100) # Initialize arrays of zeros.\n",
        "ylist = np.zeros(100) \n",
        "x,y = 0,0 # We start at (0,0).\n",
        "for t in range(100):  # t will be the \"time\" parameter for the walk.\n",
        "    xlist[t] = x\n",
        "    ylist[t] = y\n",
        "    x += np.random.random()-0.5 # Add a random number between -0.5 and 0.5 to x.\n",
        "    y += np.random.random()-0.5 # Add a random number between -0.5 and 0.5 to x."
      ],
      "execution_count": null,
      "outputs": []
    },
    {
      "cell_type": "markdown",
      "metadata": {
        "id": "x7XGaj-mG50W"
      },
      "source": [
        "Note that we began by initializing xlist and ylist to an array of zeros, and *not* an empty array.  We did *not* begin with `xlist = np.array([])` and then append new x-values.  There's an important reason for this, having to do with the optimization of NumPy.  \n",
        "\n",
        "When NumPy stores an array, it finds a block of *consecutive* memory slots for the array values.  So if you start with an array of 100 zeros (as float64s), NumPy will find 6400 consecutive bits of memory in your computer, and set them to represent 100 consecutive zeros (each stored in a 64-bit clump).  \n",
        "\n",
        "If you *append* to a NumPy array, NumPy will be annoyed.  NumPy has already found a perfectly-sized block of memory for your data, and now you are asking NumPy to fit more data in the block.  So NumPy will go out and hunt for a new perfectly-sized block of memory to fit your data... every single time you append.  This will waste resources and make NumPy sad.\n",
        "\n",
        "On the other hand, NumPy will be perfectly happy to *change* the bits of memory that it has allocated.  So starting with all zeros, and changing those zeros to other 64-bit numbers, will keep NumPy HapPy."
      ]
    },
    {
      "cell_type": "code",
      "metadata": {
        "id": "gVV09TBKG50W"
      },
      "source": [
        "plt.figure(figsize=(5,5))\n",
        "plt.plot(xlist, ylist, alpha=0.5, c='blue') # label for the legend.\n",
        "plt.grid() # A grid might help.\n",
        "plt.xlabel('$x$') # Notice the dollar signs... matplotlib understands basic LaTeX in text!\n",
        "plt.ylabel('$y$')\n",
        "plt.title('A random walk in 2 dimensions')\n",
        "plt.show()"
      ],
      "execution_count": null,
      "outputs": []
    },
    {
      "cell_type": "markdown",
      "metadata": {
        "id": "RWyw7DBkG50W"
      },
      "source": [
        "### Histograms in matplotlib\n",
        "\n",
        "A *histogram* is most frequently used to display the *distribution* of a single numerical variable.  In other words, if one has a big *set* of numbers, a histogram is used to display how these numbers are distributed:  are they clumped near a \"center\" or are they \"multimodal\" (having multiple \"centers\")?  Are they \"uniformly distributed\" within a range?  How much \"noise\" is present?  \n",
        "\n",
        "To understand histograms, we begin with a set of numbers, represented in a numpy array.  \n",
        "Read the [full histogram documentation](https://matplotlib.org/api/_as_gen/matplotlib.pyplot.hist.html) for more!"
      ]
    },
    {
      "cell_type": "code",
      "metadata": {
        "id": "wCVGbl67G50W"
      },
      "source": [
        "A = np.random.random(100) # A list of 100 random numbers between 0 and 1."
      ],
      "execution_count": null,
      "outputs": []
    },
    {
      "cell_type": "markdown",
      "metadata": {
        "id": "1nwi9NySG50W"
      },
      "source": [
        "The following code is a minimalist sort of histogram."
      ]
    },
    {
      "cell_type": "code",
      "metadata": {
        "id": "X676TbLCG50X"
      },
      "source": [
        "plt.figure(figsize=(5,5))\n",
        "plt.hist(A, bins=10) # Divide the range of numbers into 10 \"bins\".\n",
        "plt.grid()\n",
        "plt.title(\"Histogram of 100 random numbers between 0.0 and 1.0\")\n",
        "plt.show()"
      ],
      "execution_count": null,
      "outputs": []
    },
    {
      "cell_type": "markdown",
      "metadata": {
        "id": "sf4VZrRYG50X"
      },
      "source": [
        "The new ingredient here is the `plt.hist(A, bins=10)` command.  This carries out the following steps.\n",
        "\n",
        "1.  It identifies the smallest value of the array `A` and the largest value of the array `A`, and subdivides the space between this min and max into 10 \"bins\".\n",
        "\n",
        "2.  It counts the number of values within each bin.\n",
        "\n",
        "3.  It draws a bar for each bin, whose height is the number of values within each bin.\n",
        "\n",
        "For histogram, the automatic layout is often difficult to read.  We can choose the bins manually, and add xticks and yticks, to display the information more clearly.  We are going to use the `np.linspace` command, explained just below."
      ]
    },
    {
      "cell_type": "code",
      "metadata": {
        "id": "zlnwf2N4G50X"
      },
      "source": [
        "plt.figure(figsize=(5,5))\n",
        "plt.hist(A, bins=np.linspace(0,1,11)) # Divide the range of numbers into 10 \"bins\".\n",
        "plt.plot ((0,1), (10,10)) # Compare to the flat distribution.\n",
        "plt.xticks(np.linspace(0,1,11))\n",
        "plt.yticks(np.arange(0,20,1))\n",
        "plt.grid()\n",
        "plt.title(\"Histogram of 100 random numbers between 0.0 and 1.0\")\n",
        "plt.show()"
      ],
      "execution_count": null,
      "outputs": []
    },
    {
      "cell_type": "markdown",
      "metadata": {
        "id": "YvL09iFsG50X"
      },
      "source": [
        "The only new ingredient was the `np.linspace` command, which is a very useful variant of `np.arange`.  The command `np.arange(start, stop, step)` creates a numpy array that begins at `start` and ends *just before* `stop` using intervals of `step`.  This should be familiar from the usual Python `range` command.\n",
        "\n",
        "The command `np.linspace(start, stop, length)` creates a numpy array that begins at `start` and ends *at* `stop`, using `length` evenly spaced values.  This is particularly useful for graphing, where you might know the domain interval and the number of samples you wish to compute."
      ]
    },
    {
      "cell_type": "markdown",
      "metadata": {
        "id": "SqnpCrSCG50X"
      },
      "source": [
        "### Matplotlib Exercises\n",
        "\n",
        "1.  Use `np.arange` and `np.linspace` to product the same numpy array `array([ 0.,  1.,  2.,  3.,  4.,  5.,  6.,  7.,  8.,  9., 10.])`.  \n",
        "\n",
        "2.  Create numpy arrays `xlist` and `ylist`, such that their scatter plot contains 100 evenly spaced points on the unit circle.\n",
        "\n",
        "3.  Use numpy to create a 10000 by 100 array of numbers, randomly chosen from {0,1}, with the command `R = np.random.choice([0,1], (10000,100))`.  You can think of each entry as a coin-toss, with 0 standing for tails and 1 for heads.  Now sum the rows of this array, to get an array of 10000 numbers between 0 and 100.  Make a histogram of this array to exhibit the [central limit theorem](https://en.wikipedia.org/wiki/Central_limit_theorem).  Use at least 20 bins.  Try this with other random choices of numbers, e.g., replacing [0,1] by other small lists of numbers.  How is the horizontal center of the histogram peak related to the list of numbers you choose?  Extra time? compare to the normal distribution by overlaying a suitable plt.plot."
      ]
    },
    {
      "cell_type": "code",
      "metadata": {
        "id": "X9VVZo4lG50X"
      },
      "source": [
        "# Use this space for the exercises.\n",
        "# Make sure each plot is in a different cell!"
      ],
      "execution_count": null,
      "outputs": []
    },
    {
      "cell_type": "markdown",
      "metadata": {
        "id": "S4v1eb4XG50X"
      },
      "source": [
        "## Visualization with pillow\n",
        "\n",
        "The Python Imaging Library (PIL) was started over 20 years ago, as a package for working with images (in formats like jpg, png, bmp, etc.) in Python.  Development of PIL mostly stopped in 2011, but is thankfully revived as [Pillow](https://pillow.readthedocs.io/en/stable/) (the \"friendly PIL fork\").  \n",
        "\n",
        "Let's see if it works, with some basic code below."
      ]
    },
    {
      "cell_type": "code",
      "metadata": {
        "id": "YvKtBdJhG50X"
      },
      "source": [
        "from PIL import Image # Load the package."
      ],
      "execution_count": null,
      "outputs": []
    },
    {
      "cell_type": "markdown",
      "metadata": {
        "id": "HtjTaDGzG50X"
      },
      "source": [
        "A matplotlib figure is built of certain elements -- axes, labels, dots, lines, legends, grids, ticks, etc..  By design, these elements are meant to be assembled into a large but standard zoo of scientific graphics.\n",
        "\n",
        "In contrast, PIL works with images at a more rudimentary level.  In the lines below, we use NumPy to create a 3-dimensional array of numbers, and then use PIL to turn these numbers into an image, save the image, and display the image."
      ]
    },
    {
      "cell_type": "code",
      "metadata": {
        "id": "FNParaoxG50Y"
      },
      "source": [
        "array = np.zeros([256, 256, 3], dtype=np.uint8) # Recall uint8 = unsigned 8-bit integer.  Must be in 0...255.\n",
        "for x in range(256): \n",
        "    for y in range(256): \n",
        "        array[x, y] = [x, y, 256-x//2]"
      ],
      "execution_count": null,
      "outputs": []
    },
    {
      "cell_type": "code",
      "metadata": {
        "id": "HhRRBlFQG50Y"
      },
      "source": [
        "img = Image.fromarray(array) # Create an image from the array.\n",
        "img.save('testrgba.png') # Save the image to Google's computer as a png file.  May not work well with colab.\n",
        "display(img) # Display the image in the notebook."
      ],
      "execution_count": null,
      "outputs": []
    },
    {
      "cell_type": "code",
      "metadata": {
        "id": "-uuRQmX6MX8z"
      },
      "source": [
        "from google.colab import files\n",
        "files.download('testrgba.png')  # If you want to download the PNG file to your computer."
      ],
      "execution_count": null,
      "outputs": []
    },
    {
      "cell_type": "markdown",
      "metadata": {
        "id": "GFOWp7i3G50Y"
      },
      "source": [
        "To understand how this works, it is helpful to understand a bit more about light, computer monitors, and images-as-data.  Light is electromagnetic radiation, and it travels through space in waves.  Light waves with a wavelength of about 400-700 nanometers stimulate cells on our retina, and therefore are *visible*.  Longer wavelength light includes infrared, microwave, and radio waves.  Shorter wavelength light includes ultraviolet and x-rays.\n",
        "\n",
        "For most of us, our retinas contain 3 types of \"cone cells\" which are responsive to different wavelengths of light.  Some are most responsive to light in the low 400 nm range, others to light in the low 500nm range, others in the mid 500nm range.  Signals from these three kinds of cells get passed to the brain, and we are able to distinguish between different wavelengths (in the 400-700nm range) by which cells are more or less activated.\n",
        "\n",
        "If you see light purely in the 400-450 nm range, it looks pretty blue, whereas light at the 650-700 nm range looks pretty red.  A typical red laser pointer shines light that's close to 650nm.\n",
        "\n",
        "Your computer monitor contains millions of *pixels* -- extremely tiny these days (often below 100 micrometers square).  Each pixel contains a red, a blue, and a green subpixel.  Each of these subpixels is individually dimmable, and is often set between 0 (completely off) and 255 (completely on).  In this way, each pixel can be black (red = 0, blue = 0, green = 0) or bright pure red (red = 255, blue = 0, green = 0) or white (red = 255, blue = 255, green = 255).\n",
        "\n",
        "To understand how this makes \"white\" or \"yellow\" or all the other colors in the rainbow, you need to understand an *additive* color scheme as well as how light is perceived.  When light of multiple wavelengths hits your retina, your brain perceives a certain color.  In fact, if light of a red wavelength (680nm) and green wavelength (510nm) hits your retina at the same time, your brain will see it exactly the same as light of a yellow wavelength (560nm).  When you look at a bright yellow picture on your computer monitor, your computer is actually shining red and green light at your retina... the red and green dots are just so tiny and closely packed that your brain doesn't know the difference.\n",
        "\n",
        "The code below creates a 200 by 200 by 3 array of numbers, each between 0 and 255.  But you should think about it as a 200 by 200 array of quadruples of the form `[red value, green value, blue value]`.  Each value can be between 0 and 255 -- it is represented as a np.uint8.\n",
        "\n",
        "This array is then turned into a PIL Image with the `Image.fromarray` function.  Then the PIL function `display` displays the image.  Notice how red+green looks yellow.  Experiment with the red, green, and blue values to see what happens!\n"
      ]
    },
    {
      "cell_type": "code",
      "metadata": {
        "id": "boa_dH73G50Y"
      },
      "source": [
        "solid = np.zeros((200, 200,3), dtype=np.uint8)\n",
        "for x in range(200):\n",
        "    for y in range(200):\n",
        "        solid[y,x] = [255,255,0] # Red = 255, Green = 255, Blue = 0\n",
        "img = Image.fromarray(solid) # Create an image from the array.\n",
        "display(img)"
      ],
      "execution_count": null,
      "outputs": []
    },
    {
      "cell_type": "code",
      "metadata": {
        "id": "FMWAKRs1G50Y"
      },
      "source": [
        "gradient = np.zeros((256, 256,3), dtype=np.uint8)\n",
        "for x in range(256):\n",
        "    for y in range(256):\n",
        "        gradient[y,x] = [x,128,0] # Red = x, Green = 128, Blue = 0\n",
        "img = Image.fromarray(gradient) # Create an image from the array.\n",
        "display(img)"
      ],
      "execution_count": null,
      "outputs": []
    },
    {
      "cell_type": "markdown",
      "metadata": {
        "id": "3NNvd0ApG50Y"
      },
      "source": [
        "There is something terribly confusing that happens when one goes back and forth between PIL images and NumPy arrays.  The x-coordinate and y-coordinate gets switched.  Notice in the above code that `gradient[y,x]` is being assigned a value `[x,128,0]`  This means that as x changes, the color chages (from green to orange).  The RGB triple stored in `gradient[y,x]` corresponds to the pixel with x-coordinate x.  That's why `[y,x]` is used and not `[x,y]`."
      ]
    },
    {
      "cell_type": "markdown",
      "metadata": {
        "id": "ieJX_F6QG50Y"
      },
      "source": [
        "When we save images, we will use the png [portable network graphics](https://en.wikipedia.org/wiki/Portable_Network_Graphics) image format.  This is very commonly used for graphics on the web, and can be used to store all of the red/green/blue bytes of data in a rectangular image.  Most importantly for us, the png format is *lossless* -- every pixel will be saved as intended in a png file.  On the other hand, formats like jpeg *lose information* as they compress the image.\n",
        "\n",
        "We can use Python (with PIL) to open images, modify them as NumPy arrays, and then display them and save them as images again."
      ]
    },
    {
      "cell_type": "markdown",
      "metadata": {
        "id": "bOfoV6ioG50Y"
      },
      "source": [
        "To practice a bit of image manipulation, we are going to fix a very strange looking cat.  Begin by downloading the file `meowp.png` from this [GitHub link](https://github.com/MartyWeissman/PythonForMathematics/blob/main/meowp.png)  onto your computer.  Then use the following command to upload it to Google's server."
      ]
    },
    {
      "cell_type": "code",
      "metadata": {
        "id": "oDx5iZPNMAC9"
      },
      "source": [
        "files.upload()"
      ],
      "execution_count": null,
      "outputs": []
    },
    {
      "cell_type": "code",
      "metadata": {
        "scrolled": true,
        "id": "MK0RD32KG50Z"
      },
      "source": [
        "cat = Image.open('meowp.png')\n",
        "display(cat)"
      ],
      "execution_count": null,
      "outputs": []
    },
    {
      "cell_type": "markdown",
      "metadata": {
        "id": "mahv8ShVG50Z"
      },
      "source": [
        "To examine the image file, let's display a few things."
      ]
    },
    {
      "cell_type": "code",
      "metadata": {
        "id": "L4XWk0mLG50Z"
      },
      "source": [
        "print(cat.format) # What format does the image have?\n",
        "print(cat.size) # What are the dimensions of the image?\n",
        "print(cat.mode) # What is the color-mode of the image?"
      ],
      "execution_count": null,
      "outputs": []
    },
    {
      "cell_type": "markdown",
      "metadata": {
        "id": "wz0euj_zG50Z"
      },
      "source": [
        "To manipulate this image, let's covert it to a NumPy array."
      ]
    },
    {
      "cell_type": "code",
      "metadata": {
        "id": "Vrkin5ZvG50Z"
      },
      "source": [
        "catarray = np.asarray(cat)\n",
        "print(catarray.shape)"
      ],
      "execution_count": null,
      "outputs": []
    },
    {
      "cell_type": "markdown",
      "metadata": {
        "id": "9EsuuiP1G50Z"
      },
      "source": [
        "If you look at the image, it looks like the red, green, and blue parts have been separated and overlayed in some weird way.  We can look at the red-channel only by creating a new red-only image.  We use the `catarray.copy()` command at the beginning to put our red-cat data into a new NumPy array (without harming the original catarray!)"
      ]
    },
    {
      "cell_type": "code",
      "metadata": {
        "id": "KkVmIK-fG50Z"
      },
      "source": [
        "redcatarray = catarray.copy()\n",
        "redcatarray[:,:,[1,2]] = 0  # Set all green and blue values equal to zero.\n",
        "display(Image.fromarray(redcatarray))"
      ],
      "execution_count": null,
      "outputs": []
    },
    {
      "cell_type": "markdown",
      "metadata": {
        "id": "iH57ybNVG50Z"
      },
      "source": [
        "Now let's look at the green channel by itself."
      ]
    },
    {
      "cell_type": "code",
      "metadata": {
        "id": "PYXAO9XYG50a"
      },
      "source": [
        "greencatarray = catarray.copy()\n",
        "greencatarray[:,:,[0,2]] = 0\n",
        "display(Image.fromarray(greencatarray))"
      ],
      "execution_count": null,
      "outputs": []
    },
    {
      "cell_type": "markdown",
      "metadata": {
        "id": "JY8gPiAhG50a"
      },
      "source": [
        "Now we see the problem!  Complete the exercises below to fix the image."
      ]
    },
    {
      "cell_type": "markdown",
      "metadata": {
        "id": "i_HgiRj5G50a"
      },
      "source": [
        "### Exercises\n",
        "\n",
        "1.  Create a gradient-square which is blue at the top and red at the bottom.  \n",
        "\n",
        "2.  Create and display the blue channel of the cat-image.  \n",
        "\n",
        "3.  Flip the blue and green cat-images, so that they match the orientation of the red image.  Hint:  remember that `L[-1::-1]` reversed a list.  Try this syntax with the NumPy arrays!  Watch your x- and y- axis reversal! \n",
        "\n",
        "4.  Assemble the three properly oriented images (match the orientation of the red image) to assemble a complete RGB kitty.  Can you assemble the image without using any loops?\n",
        "\n",
        "5.  (A little bit of [steganography](https://en.wikipedia.org/wiki/Steganography)!)  There's a coded message in the green channel, once it's oriented correctly.  The message is located at y-coordinate 10 and x-coordinates 0,8,16,24,32,etc.  Find this message by using applying the `chr` function to the green values at these locations.  If you want to experiment, the `ord` function converts characters (one-letter strings) to uint8's and the `chr` function converts uint8's to characters, using ASCII code."
      ]
    },
    {
      "cell_type": "code",
      "metadata": {
        "id": "8AiBJaWGG50b"
      },
      "source": [],
      "execution_count": null,
      "outputs": []
    },
    {
      "cell_type": "code",
      "metadata": {
        "id": "6O-ed7HSG50b"
      },
      "source": [],
      "execution_count": null,
      "outputs": []
    }
  ]
}